{
 "cells": [
  {
   "cell_type": "code",
   "execution_count": null,
   "id": "f795683f",
   "metadata": {},
   "outputs": [],
   "source": [
    "# this notebook is used to explore the data we have around diagnosis"
   ]
  },
  {
   "cell_type": "code",
   "execution_count": 1,
   "id": "8aafc36e",
   "metadata": {},
   "outputs": [],
   "source": [
    "import numpy as np\n",
    "import pandas as pd\n",
    "%matplotlib inline\n",
    "\n",
    "pd.set_option('display.max_rows', 500)\n",
    "pd.set_option('display.max_columns', 500)"
   ]
  },
  {
   "cell_type": "code",
   "execution_count": 2,
   "id": "d43d18a9",
   "metadata": {},
   "outputs": [],
   "source": [
    "# read in unified animal list\n",
    "file = '../Data/big_cats/Access_DB_table_exports/PrevalenceIncludedFelidsTZ_ZV_WA_SA_MG_DM.xlsx'\n",
    "data = pd.read_excel(file)"
   ]
  },
  {
   "cell_type": "code",
   "execution_count": 4,
   "id": "c5aa3916",
   "metadata": {},
   "outputs": [
    {
     "data": {
      "text/plain": [
       "Index(['Animal Name', 'ARKS Number', 'Microchip Number',\n",
       "       'Species (common name)', 'Sex', 'Alternative ARKS Nos',\n",
       "       'Studbook Number', 'GAN ID', 'Status (alive/deceased/transacted)',\n",
       "       'Zoo Location', 'Date  of Birth', 'Date of Transaction',\n",
       "       'Date of Death', 'Age in years at death', 'Date of Onset of Azoatemia',\n",
       "       'Date of USG less than 1,035', 'Ante-mortem Dx of CKD',\n",
       "       'Date of first low USG', 'Onset of azotaemia', 'Date of diagnosis',\n",
       "       'Comments re kidney function', 'First report of CKD CS', 'Age at Death',\n",
       "       'Cause of Death', 'Acute kidney failure', 'CKD - cause of mortality',\n",
       "       'CKD - co-morbidity', 'Pyometra (survived)', 'Pyometra cause of death',\n",
       "       'Unknown', 'Neonatal', 'Neurological', 'Endocrine', 'Neoplasia',\n",
       "       'Old Age debility', 'Trauma', 'Infection', 'GIT',\n",
       "       'Respiratory/Cardiovascular', 'Pathology Report Numbers',\n",
       "       'Post Mortem Report Number', 'International transaction',\n",
       "       'Dam ARKS Number', 'Sire ARKS Number', 'Sibling ARKS Number',\n",
       "       'Transacted internationally', 'Hand-raised',\n",
       "       'Housing (confined enclosure/open range)', 'Excluded from study?',\n",
       "       'Comments:', 'Biochem data', 'Urine data'],\n",
       "      dtype='object')"
      ]
     },
     "execution_count": 4,
     "metadata": {},
     "output_type": "execute_result"
    }
   ],
   "source": [
    "data.columns"
   ]
  },
  {
   "cell_type": "code",
   "execution_count": 6,
   "id": "5511b406",
   "metadata": {},
   "outputs": [
    {
     "data": {
      "text/plain": [
       "424"
      ]
     },
     "execution_count": 6,
     "metadata": {},
     "output_type": "execute_result"
    }
   ],
   "source": [
    "len(data)"
   ]
  },
  {
   "cell_type": "code",
   "execution_count": 7,
   "id": "65a8a421",
   "metadata": {},
   "outputs": [
    {
     "data": {
      "text/plain": [
       "424"
      ]
     },
     "execution_count": 7,
     "metadata": {},
     "output_type": "execute_result"
    }
   ],
   "source": [
    "len(data['ARKS Number'].unique())"
   ]
  },
  {
   "cell_type": "code",
   "execution_count": 8,
   "id": "c3b2d91c",
   "metadata": {},
   "outputs": [
    {
     "data": {
      "text/plain": [
       "False    410\n",
       "True      14\n",
       "Name: Ante-mortem Dx of CKD, dtype: int64"
      ]
     },
     "execution_count": 8,
     "metadata": {},
     "output_type": "execute_result"
    }
   ],
   "source": [
    "data['Ante-mortem Dx of CKD'].value_counts()"
   ]
  },
  {
   "cell_type": "code",
   "execution_count": 9,
   "id": "35e91bb1",
   "metadata": {},
   "outputs": [
    {
     "data": {
      "text/plain": [
       "False    348\n",
       "True      76\n",
       "Name: CKD - cause of mortality, dtype: int64"
      ]
     },
     "execution_count": 9,
     "metadata": {},
     "output_type": "execute_result"
    }
   ],
   "source": [
    "data['CKD - cause of mortality'].value_counts()"
   ]
  },
  {
   "cell_type": "code",
   "execution_count": 14,
   "id": "80b38bc4",
   "metadata": {},
   "outputs": [
    {
     "data": {
      "text/plain": [
       "11"
      ]
     },
     "execution_count": 14,
     "metadata": {},
     "output_type": "execute_result"
    }
   ],
   "source": [
    "len(data[(data['CKD - cause of mortality'] == True) & (data['Ante-mortem Dx of CKD'] == True)])"
   ]
  },
  {
   "cell_type": "code",
   "execution_count": 15,
   "id": "73dc8e7d",
   "metadata": {},
   "outputs": [
    {
     "data": {
      "text/plain": [
       "2011-11-16    1\n",
       "2013-03-07    1\n",
       "2001-03-01    1\n",
       "1973-01-23    1\n",
       "Name: Date of diagnosis, dtype: int64"
      ]
     },
     "execution_count": 15,
     "metadata": {},
     "output_type": "execute_result"
    }
   ],
   "source": [
    "data['Date of diagnosis'].value_counts()"
   ]
  },
  {
   "cell_type": "code",
   "execution_count": 17,
   "id": "25ce2d76",
   "metadata": {},
   "outputs": [
    {
     "data": {
      "text/plain": [
       "28-jul-10    2\n",
       "20-3-92      1\n",
       "25-10-02     1\n",
       "21-Oct-94    1\n",
       "22-may-08    1\n",
       "16-may-99    1\n",
       "Name: First report of CKD CS, dtype: int64"
      ]
     },
     "execution_count": 17,
     "metadata": {},
     "output_type": "execute_result"
    }
   ],
   "source": [
    "data['First report of CKD CS'].value_counts()"
   ]
  },
  {
   "cell_type": "code",
   "execution_count": 19,
   "id": "78bd345d",
   "metadata": {},
   "outputs": [
    {
     "data": {
      "text/plain": [
       "56"
      ]
     },
     "execution_count": 19,
     "metadata": {},
     "output_type": "execute_result"
    }
   ],
   "source": [
    "data['Onset of azotaemia'].value_counts().sum()"
   ]
  },
  {
   "cell_type": "code",
   "execution_count": 21,
   "id": "d4561fe9",
   "metadata": {},
   "outputs": [
    {
     "data": {
      "text/plain": [
       "39"
      ]
     },
     "execution_count": 21,
     "metadata": {},
     "output_type": "execute_result"
    }
   ],
   "source": [
    "data['Date of first low USG'].value_counts().sum()"
   ]
  },
  {
   "cell_type": "code",
   "execution_count": 22,
   "id": "02d46b25",
   "metadata": {},
   "outputs": [
    {
     "data": {
      "text/plain": [
       "Series([], Name: Date of USG less than 1,035, dtype: int64)"
      ]
     },
     "execution_count": 22,
     "metadata": {},
     "output_type": "execute_result"
    }
   ],
   "source": [
    "data['Date of USG less than 1,035'].value_counts()"
   ]
  },
  {
   "cell_type": "code",
   "execution_count": null,
   "id": "8864c63b",
   "metadata": {},
   "outputs": [],
   "source": []
  }
 ],
 "metadata": {
  "kernelspec": {
   "display_name": "vetAI",
   "language": "python",
   "name": "vetai"
  },
  "language_info": {
   "codemirror_mode": {
    "name": "ipython",
    "version": 3
   },
   "file_extension": ".py",
   "mimetype": "text/x-python",
   "name": "python",
   "nbconvert_exporter": "python",
   "pygments_lexer": "ipython3",
   "version": "3.7.3"
  }
 },
 "nbformat": 4,
 "nbformat_minor": 5
}
