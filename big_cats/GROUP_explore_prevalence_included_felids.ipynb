{
 "cells": [
  {
   "cell_type": "code",
   "execution_count": 1,
   "id": "f795683f",
   "metadata": {},
   "outputs": [],
   "source": [
    "# this notebook is used to explore the data we have around diagnosis"
   ]
  },
  {
   "cell_type": "code",
   "execution_count": 2,
   "id": "88a9171b",
   "metadata": {},
   "outputs": [],
   "source": [
    "# cross check dates of first azotemia, low USG with diagnoses\n",
    "# come up with scheme for first diagnosed date\n",
    "# generally look at what diagnosis info we have\n",
    "# add a column to diagnose based on IRIS reference ranges\n",
    "# add a column for Rachel's diagnosis reference range for species she calculated"
   ]
  },
  {
   "cell_type": "code",
   "execution_count": 3,
   "id": "10d20c66",
   "metadata": {},
   "outputs": [],
   "source": [
    "# 'Date of Onset of Azoatemia'  completely empty\n",
    "# 'Date of USG less than 1,035' empty\n",
    "# 'Onset of azotaemia' these are dates and there are 56 of them"
   ]
  },
  {
   "cell_type": "code",
   "execution_count": 4,
   "id": "d99f242d",
   "metadata": {},
   "outputs": [],
   "source": [
    "# SCHEME FOR INFERRING DATE OF DIAGNOSIS\n",
    "# logic_flag\n",
    "# 0: can't infer\n",
    "# 1: date of diagnosis (4 cats)\n",
    "# 2. 'First report of CKD CS' (7)\n",
    "# 3. Ante-mortem Dx TRUE and use earliest 'Onset of azotaemia' / 'Date of first low USG'\n",
    "# 4. Died of CKD  and use earliest 'Onset of azotaemia' / 'Date of first low USG'\n",
    "\n",
    "# sometimes the first indicator date is the same as date of death.  Once labeling is done will need to compare date of death and fisrt indicator date and consider excluding record if these are too close in time.\n"
   ]
  },
  {
   "cell_type": "code",
   "execution_count": null,
   "id": "8aafc36e",
   "metadata": {},
   "outputs": [],
   "source": [
    "import numpy as np\n",
    "import pandas as pd\n",
    "%matplotlib inline\n",
    "\n",
    "pd.set_option('display.max_rows', 500)\n",
    "pd.set_option('display.max_columns', 500)"
   ]
  },
  {
   "cell_type": "code",
   "execution_count": null,
   "id": "d43d18a9",
   "metadata": {},
   "outputs": [],
   "source": [
    "# read in unified animal list\n",
    "file = '../Data/big_cats/Access_DB_table_exports/PrevalenceIncludedFelidsTZ_ZV_WA_SA_MG_DM.xlsx'\n",
    "data = pd.read_excel(file)"
   ]
  },
  {
   "cell_type": "code",
   "execution_count": null,
   "id": "c5aa3916",
   "metadata": {},
   "outputs": [],
   "source": [
    "data.columns"
   ]
  },
  {
   "cell_type": "code",
   "execution_count": null,
   "id": "153d2136",
   "metadata": {},
   "outputs": [],
   "source": [
    "diagnosis_date_labeling = data[['ARKS Number', 'Ante-mortem Dx of CKD', 'Date of first low USG', 'Onset of azotaemia', 'Date of diagnosis', 'First report of CKD CS', 'Cause of Death', 'CKD - cause of mortality', 'Date of Death']]\n",
    "diagnosis_date_labeling"
   ]
  },
  {
   "cell_type": "code",
   "execution_count": null,
   "id": "5bff8a93",
   "metadata": {},
   "outputs": [],
   "source": [
    "# write to csv to label\n",
    "#file = '../Data/big_cats/processed_data/diagnosis_date_labeling.csv'\n",
    "#diagnosis_info.to_csv(file, index=False)"
   ]
  },
  {
   "cell_type": "code",
   "execution_count": null,
   "id": "80c8e8fe",
   "metadata": {},
   "outputs": [],
   "source": [
    "# SCHEME FOR INFERRING DATE OF DIAGNOSIS\n",
    "# logic_flag\n",
    "# 0: can't infer\n",
    "# 1: date of diagnosis (4 cats)\n",
    "# 2. 'First report of CKD CS' (7)\n",
    "# 3. Ante-mortem Dx TRUE and use earliest 'Onset of azotaemia' / 'Date of first low USG'\n",
    "# 4. Died of CKD  and use earliest 'Onset of azotaemia' / 'Date of first low USG'"
   ]
  },
  {
   "cell_type": "code",
   "execution_count": null,
   "id": "c6b0ec30",
   "metadata": {},
   "outputs": [],
   "source": [
    "data['inferred_diagnosis_date'] = None\n",
    "data['logic_flag'] = 0\n",
    "\n",
    "logic_flag_4 =(data['CKD - cause of mortality']) & ((data['Onset of azotaemia'].notnull()) | (data['Date of first low USG'].notnull()) )\n",
    "data.loc[logic_flag_4, 'logic_flag'] = 4\n",
    "data.loc[logic_flag_4, 'inferred_diagnosis_date'] = data[logic_flag_4][['Onset of azotaemia', 'Date of first low USG']].min(axis=1)\n",
    "\n",
    "logic_flag_3 =(data['Ante-mortem Dx of CKD']) & ((data['Onset of azotaemia'].notnull()) | (data['Date of first low USG'].notnull()) )\n",
    "data.loc[logic_flag_3, 'logic_flag'] = 3\n",
    "data.loc[logic_flag_3, 'inferred_diagnosis_date'] = data[logic_flag_3][['Onset of azotaemia', 'Date of first low USG']].min(axis=1)\n",
    "\n",
    "logic_flag_2 = data['First report of CKD CS'].notnull()\n",
    "data.loc[logic_flag_2, 'logic_flag'] = 2\n",
    "data.loc[logic_flag_2, 'inferred_diagnosis_date'] = data[logic_flag_2]['First report of CKD CS']\n",
    "\n",
    "logic_flag_1 = data['Date of diagnosis'].notnull()\n",
    "data.loc[logic_flag_1, 'logic_flag'] = 1\n",
    "data.loc[logic_flag_1, 'inferred_diagnosis_date'] = data[logic_flag_1]['Date of diagnosis']\n",
    "\n",
    "data['inferred_diagnosis_date'] = pd.to_datetime(data['inferred_diagnosis_date'])\n",
    "\n",
    "data['earliest_indicator'] = data[['Onset of azotaemia', 'Date of first low USG', 'inferred_diagnosis_date']].min(axis=1)\n",
    "data['time_between_diagnosis_and_death'] = data['Date of Death'] - data['inferred_diagnosis_date']\n",
    "data['time_between_earliest_indicator_and_death'] = data['Date of Death'] - data['earliest_indicator']\n"
   ]
  },
  {
   "cell_type": "code",
   "execution_count": null,
   "id": "568617e1",
   "metadata": {},
   "outputs": [],
   "source": [
    "data.head()"
   ]
  },
  {
   "cell_type": "code",
   "execution_count": null,
   "id": "e676ac53",
   "metadata": {},
   "outputs": [],
   "source": [
    "data['CKD - cause of mortality'].value_counts()"
   ]
  },
  {
   "cell_type": "code",
   "execution_count": null,
   "id": "d59353bc",
   "metadata": {},
   "outputs": [],
   "source": [
    "CKD = data[(data['CKD - cause of mortality']==True) & (data['logic_flag']!=0)]"
   ]
  },
  {
   "cell_type": "code",
   "execution_count": null,
   "id": "99806794",
   "metadata": {},
   "outputs": [],
   "source": [
    "len(CKD)"
   ]
  },
  {
   "cell_type": "code",
   "execution_count": null,
   "id": "14d4a68f",
   "metadata": {},
   "outputs": [],
   "source": [
    "CKD.loc[67] # cats still alive: 27, 42, 52, 65"
   ]
  },
  {
   "cell_type": "code",
   "execution_count": null,
   "id": "422708f2",
   "metadata": {},
   "outputs": [],
   "source": [
    "CKD['Date of Death'] - CKD['inferred_diagnosis_date']"
   ]
  },
  {
   "cell_type": "code",
   "execution_count": null,
   "id": "d6450131",
   "metadata": {},
   "outputs": [],
   "source": [
    "CKD[['time_between_diagnosis_and_death', 'time_between_earliest_indicator_and_death']]"
   ]
  },
  {
   "cell_type": "code",
   "execution_count": null,
   "id": "b8fc1416",
   "metadata": {},
   "outputs": [],
   "source": []
  },
  {
   "cell_type": "code",
   "execution_count": null,
   "id": "5511b406",
   "metadata": {},
   "outputs": [],
   "source": [
    "data.dtypes"
   ]
  },
  {
   "cell_type": "code",
   "execution_count": null,
   "id": "65a8a421",
   "metadata": {},
   "outputs": [],
   "source": [
    "len(data['ARKS Number'].unique())"
   ]
  },
  {
   "cell_type": "code",
   "execution_count": null,
   "id": "c3b2d91c",
   "metadata": {},
   "outputs": [],
   "source": [
    "data['Ante-mortem Dx of CKD'].value_counts()"
   ]
  },
  {
   "cell_type": "code",
   "execution_count": null,
   "id": "80b38bc4",
   "metadata": {},
   "outputs": [],
   "source": [
    "len(data[(data['CKD - cause of mortality'] == True) & (data['Ante-mortem Dx of CKD'] == True)])"
   ]
  },
  {
   "cell_type": "code",
   "execution_count": null,
   "id": "73dc8e7d",
   "metadata": {},
   "outputs": [],
   "source": [
    "data['Date of diagnosis'].value_counts()"
   ]
  },
  {
   "cell_type": "code",
   "execution_count": null,
   "id": "25ce2d76",
   "metadata": {},
   "outputs": [],
   "source": [
    "data['First report of CKD CS'].value_counts()"
   ]
  },
  {
   "cell_type": "code",
   "execution_count": null,
   "id": "78bd345d",
   "metadata": {},
   "outputs": [],
   "source": [
    "data['Onset of azotaemia'].value_counts().sum()"
   ]
  },
  {
   "cell_type": "code",
   "execution_count": null,
   "id": "d4561fe9",
   "metadata": {},
   "outputs": [],
   "source": [
    "data['Date of first low USG'].value_counts().sum()"
   ]
  },
  {
   "cell_type": "code",
   "execution_count": null,
   "id": "02d46b25",
   "metadata": {},
   "outputs": [],
   "source": [
    "data['Date of USG less than 1,035'].value_counts()"
   ]
  },
  {
   "cell_type": "code",
   "execution_count": null,
   "id": "8864c63b",
   "metadata": {},
   "outputs": [],
   "source": [
    "data['Date of Onset of Azoatemia'].value_counts()"
   ]
  },
  {
   "cell_type": "code",
   "execution_count": null,
   "id": "42def8ac",
   "metadata": {},
   "outputs": [],
   "source": []
  }
 ],
 "metadata": {
  "kernelspec": {
   "display_name": "vetAI",
   "language": "python",
   "name": "vetai"
  },
  "language_info": {
   "codemirror_mode": {
    "name": "ipython",
    "version": 3
   },
   "file_extension": ".py",
   "mimetype": "text/x-python",
   "name": "python",
   "nbconvert_exporter": "python",
   "pygments_lexer": "ipython3",
   "version": "3.7.3"
  }
 },
 "nbformat": 4,
 "nbformat_minor": 5
}
