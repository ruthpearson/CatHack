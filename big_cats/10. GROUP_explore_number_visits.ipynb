{
 "cells": [
  {
   "cell_type": "markdown",
   "id": "bb389ca7",
   "metadata": {},
   "source": [
    "- Note: check alternative ARKS numbers to get more merge matches\n",
    "- Consider if we want to include cats with CKD comorbidity in controls (for now no)"
   ]
  },
  {
   "cell_type": "markdown",
   "id": "945d5067",
   "metadata": {},
   "source": [
    "Predict if a cat will die of CKD (somewhat similar to survival analysis)"
   ]
  },
  {
   "cell_type": "code",
   "execution_count": 1,
   "id": "9d9ddf3f",
   "metadata": {},
   "outputs": [],
   "source": [
    "import numpy as np\n",
    "import pandas as pd\n",
    "%matplotlib inline\n",
    "\n",
    "pd.set_option('display.max_rows', 500)\n",
    "pd.set_option('display.max_columns', 500)"
   ]
  },
  {
   "cell_type": "code",
   "execution_count": 2,
   "id": "ee64ff40",
   "metadata": {},
   "outputs": [],
   "source": [
    "# read in unified animal list\n",
    "file = '../Data/big_cats/Access_DB_table_exports/PrevalenceIncludedFelidsTZ_ZV_WA_SA_MG_DM.xlsx'\n",
    "cats = pd.read_excel(file)\n",
    "\n",
    "# read in lab visit data (we provcessed this in GROUP_merge_tables)\n",
    "file = '../Data/big_cats/processed_data/merged_tables_tol_7days_2021-04-01.csv'\n",
    "visits = pd.read_csv(file)"
   ]
  },
  {
   "cell_type": "code",
   "execution_count": 3,
   "id": "907916b5",
   "metadata": {},
   "outputs": [
    {
     "data": {
      "text/html": [
       "<div>\n",
       "<style scoped>\n",
       "    .dataframe tbody tr th:only-of-type {\n",
       "        vertical-align: middle;\n",
       "    }\n",
       "\n",
       "    .dataframe tbody tr th {\n",
       "        vertical-align: top;\n",
       "    }\n",
       "\n",
       "    .dataframe thead th {\n",
       "        text-align: right;\n",
       "    }\n",
       "</style>\n",
       "<table border=\"1\" class=\"dataframe\">\n",
       "  <thead>\n",
       "    <tr style=\"text-align: right;\">\n",
       "      <th></th>\n",
       "      <th>Animal Name</th>\n",
       "      <th>ARKS Number</th>\n",
       "      <th>Microchip Number</th>\n",
       "      <th>Species (common name)</th>\n",
       "      <th>Sex</th>\n",
       "      <th>Alternative ARKS Nos</th>\n",
       "      <th>Studbook Number</th>\n",
       "      <th>GAN ID</th>\n",
       "      <th>Status (alive/deceased/transacted)</th>\n",
       "      <th>Zoo Location</th>\n",
       "      <th>Date  of Birth</th>\n",
       "      <th>Date of Transaction</th>\n",
       "      <th>Date of Death</th>\n",
       "      <th>Age in years at death</th>\n",
       "      <th>Date of Onset of Azoatemia</th>\n",
       "      <th>Date of USG less than 1,035</th>\n",
       "      <th>Ante-mortem Dx of CKD</th>\n",
       "      <th>Date of first low USG</th>\n",
       "      <th>Onset of azotaemia</th>\n",
       "      <th>Date of diagnosis</th>\n",
       "      <th>Comments re kidney function</th>\n",
       "      <th>First report of CKD CS</th>\n",
       "      <th>Age at Death</th>\n",
       "      <th>Cause of Death</th>\n",
       "      <th>Acute kidney failure</th>\n",
       "      <th>CKD - cause of mortality</th>\n",
       "      <th>CKD - co-morbidity</th>\n",
       "      <th>Pyometra (survived)</th>\n",
       "      <th>Pyometra cause of death</th>\n",
       "      <th>Unknown</th>\n",
       "      <th>Neonatal</th>\n",
       "      <th>Neurological</th>\n",
       "      <th>Endocrine</th>\n",
       "      <th>Neoplasia</th>\n",
       "      <th>Old Age debility</th>\n",
       "      <th>Trauma</th>\n",
       "      <th>Infection</th>\n",
       "      <th>GIT</th>\n",
       "      <th>Respiratory/Cardiovascular</th>\n",
       "      <th>Pathology Report Numbers</th>\n",
       "      <th>Post Mortem Report Number</th>\n",
       "      <th>International transaction</th>\n",
       "      <th>Dam ARKS Number</th>\n",
       "      <th>Sire ARKS Number</th>\n",
       "      <th>Sibling ARKS Number</th>\n",
       "      <th>Transacted internationally</th>\n",
       "      <th>Hand-raised</th>\n",
       "      <th>Housing (confined enclosure/open range)</th>\n",
       "      <th>Excluded from study?</th>\n",
       "      <th>Comments:</th>\n",
       "      <th>Biochem data</th>\n",
       "      <th>Urine data</th>\n",
       "    </tr>\n",
       "  </thead>\n",
       "  <tbody>\n",
       "    <tr>\n",
       "      <th>0</th>\n",
       "      <td>Amber</td>\n",
       "      <td>800100</td>\n",
       "      <td>NaN</td>\n",
       "      <td>Lion</td>\n",
       "      <td>female</td>\n",
       "      <td>NaN</td>\n",
       "      <td>NaN</td>\n",
       "      <td>NaN</td>\n",
       "      <td>Dead</td>\n",
       "      <td>Taronga Zoo</td>\n",
       "      <td>1980-12-08</td>\n",
       "      <td>NaT</td>\n",
       "      <td>1982-04-24</td>\n",
       "      <td>1.375342</td>\n",
       "      <td>NaN</td>\n",
       "      <td>NaN</td>\n",
       "      <td>False</td>\n",
       "      <td>NaT</td>\n",
       "      <td>NaT</td>\n",
       "      <td>NaT</td>\n",
       "      <td>NaN</td>\n",
       "      <td>NaN</td>\n",
       "      <td>1y4m16d</td>\n",
       "      <td>euthanasia- renal failure</td>\n",
       "      <td>False</td>\n",
       "      <td>True</td>\n",
       "      <td>False</td>\n",
       "      <td>False</td>\n",
       "      <td>False</td>\n",
       "      <td>False</td>\n",
       "      <td>False</td>\n",
       "      <td>False</td>\n",
       "      <td>False</td>\n",
       "      <td>False</td>\n",
       "      <td>False</td>\n",
       "      <td>False</td>\n",
       "      <td>False</td>\n",
       "      <td>False</td>\n",
       "      <td>False</td>\n",
       "      <td>NaN</td>\n",
       "      <td>NaN</td>\n",
       "      <td>False</td>\n",
       "      <td>NaN</td>\n",
       "      <td>NaN</td>\n",
       "      <td>NaN</td>\n",
       "      <td>False</td>\n",
       "      <td>False</td>\n",
       "      <td>NaN</td>\n",
       "      <td>True</td>\n",
       "      <td>No biochem data. No clinical history. No PM re...</td>\n",
       "      <td>False</td>\n",
       "      <td>True</td>\n",
       "    </tr>\n",
       "    <tr>\n",
       "      <th>1</th>\n",
       "      <td>Askari</td>\n",
       "      <td>A49221</td>\n",
       "      <td>00-0643-10BA</td>\n",
       "      <td>Cheetah</td>\n",
       "      <td>male</td>\n",
       "      <td>NaN</td>\n",
       "      <td>6132</td>\n",
       "      <td>MIG12-029516691</td>\n",
       "      <td>Dead</td>\n",
       "      <td>Monarto Zoo</td>\n",
       "      <td>2004-09-11</td>\n",
       "      <td>NaT</td>\n",
       "      <td>2013-04-04</td>\n",
       "      <td>8.567123</td>\n",
       "      <td>NaN</td>\n",
       "      <td>NaN</td>\n",
       "      <td>False</td>\n",
       "      <td>2013-04-04</td>\n",
       "      <td>2013-03-03</td>\n",
       "      <td>NaT</td>\n",
       "      <td>NaN</td>\n",
       "      <td>NaN</td>\n",
       "      <td>8y6m22d</td>\n",
       "      <td>CKD and corneal ulcer</td>\n",
       "      <td>False</td>\n",
       "      <td>True</td>\n",
       "      <td>False</td>\n",
       "      <td>False</td>\n",
       "      <td>False</td>\n",
       "      <td>False</td>\n",
       "      <td>False</td>\n",
       "      <td>False</td>\n",
       "      <td>False</td>\n",
       "      <td>False</td>\n",
       "      <td>False</td>\n",
       "      <td>False</td>\n",
       "      <td>False</td>\n",
       "      <td>False</td>\n",
       "      <td>False</td>\n",
       "      <td>NaN</td>\n",
       "      <td>NaN</td>\n",
       "      <td>False</td>\n",
       "      <td>NaN</td>\n",
       "      <td>NaN</td>\n",
       "      <td>NaN</td>\n",
       "      <td>False</td>\n",
       "      <td>False</td>\n",
       "      <td>NaN</td>\n",
       "      <td>False</td>\n",
       "      <td>NaN</td>\n",
       "      <td>True</td>\n",
       "      <td>True</td>\n",
       "    </tr>\n",
       "    <tr>\n",
       "      <th>2</th>\n",
       "      <td>Audrey</td>\n",
       "      <td>890000</td>\n",
       "      <td>7F-7F4A-2238</td>\n",
       "      <td>Asiatic Lion</td>\n",
       "      <td>female</td>\n",
       "      <td>NaN</td>\n",
       "      <td>88</td>\n",
       "      <td>MIG12-25946946</td>\n",
       "      <td>Dead</td>\n",
       "      <td>Western Plains Zoo</td>\n",
       "      <td>1980-02-27</td>\n",
       "      <td>NaT</td>\n",
       "      <td>2001-07-03</td>\n",
       "      <td>21.361644</td>\n",
       "      <td>NaN</td>\n",
       "      <td>NaN</td>\n",
       "      <td>True</td>\n",
       "      <td>1998-05-28</td>\n",
       "      <td>2001-03-01</td>\n",
       "      <td>2001-03-01</td>\n",
       "      <td>NaN</td>\n",
       "      <td>NaN</td>\n",
       "      <td>NaN</td>\n",
       "      <td>CKD</td>\n",
       "      <td>False</td>\n",
       "      <td>True</td>\n",
       "      <td>False</td>\n",
       "      <td>True</td>\n",
       "      <td>False</td>\n",
       "      <td>False</td>\n",
       "      <td>False</td>\n",
       "      <td>False</td>\n",
       "      <td>False</td>\n",
       "      <td>False</td>\n",
       "      <td>False</td>\n",
       "      <td>False</td>\n",
       "      <td>False</td>\n",
       "      <td>False</td>\n",
       "      <td>False</td>\n",
       "      <td>NaN</td>\n",
       "      <td>NaN</td>\n",
       "      <td>False</td>\n",
       "      <td>NaN</td>\n",
       "      <td>NaN</td>\n",
       "      <td>NaN</td>\n",
       "      <td>True</td>\n",
       "      <td>False</td>\n",
       "      <td>NaN</td>\n",
       "      <td>False</td>\n",
       "      <td>Born LincolnPark Zoo, Chicago</td>\n",
       "      <td>True</td>\n",
       "      <td>True</td>\n",
       "    </tr>\n",
       "    <tr>\n",
       "      <th>3</th>\n",
       "      <td>Bengal</td>\n",
       "      <td>K46</td>\n",
       "      <td>NaN</td>\n",
       "      <td>Bengal Tiger</td>\n",
       "      <td>male</td>\n",
       "      <td>NaN</td>\n",
       "      <td>NaN</td>\n",
       "      <td>NaN</td>\n",
       "      <td>Dead</td>\n",
       "      <td>Taronga Zoo</td>\n",
       "      <td>NaT</td>\n",
       "      <td>NaT</td>\n",
       "      <td>1973-05-23</td>\n",
       "      <td>NaN</td>\n",
       "      <td>NaN</td>\n",
       "      <td>NaN</td>\n",
       "      <td>True</td>\n",
       "      <td>NaT</td>\n",
       "      <td>NaT</td>\n",
       "      <td>1973-01-23</td>\n",
       "      <td>history of vomiting and anorexia</td>\n",
       "      <td>NaN</td>\n",
       "      <td>old</td>\n",
       "      <td>CKD</td>\n",
       "      <td>False</td>\n",
       "      <td>True</td>\n",
       "      <td>False</td>\n",
       "      <td>False</td>\n",
       "      <td>False</td>\n",
       "      <td>False</td>\n",
       "      <td>False</td>\n",
       "      <td>False</td>\n",
       "      <td>False</td>\n",
       "      <td>False</td>\n",
       "      <td>False</td>\n",
       "      <td>False</td>\n",
       "      <td>False</td>\n",
       "      <td>False</td>\n",
       "      <td>False</td>\n",
       "      <td>NaN</td>\n",
       "      <td>NaN</td>\n",
       "      <td>False</td>\n",
       "      <td>NaN</td>\n",
       "      <td>NaN</td>\n",
       "      <td>NaN</td>\n",
       "      <td>False</td>\n",
       "      <td>False</td>\n",
       "      <td>NaN</td>\n",
       "      <td>False</td>\n",
       "      <td>PM report, but no USG or biochem</td>\n",
       "      <td>False</td>\n",
       "      <td>False</td>\n",
       "    </tr>\n",
       "    <tr>\n",
       "      <th>4</th>\n",
       "      <td>Blackfoot</td>\n",
       "      <td>K0095</td>\n",
       "      <td>NaN</td>\n",
       "      <td>Leopard</td>\n",
       "      <td>female</td>\n",
       "      <td>NaN</td>\n",
       "      <td>NaN</td>\n",
       "      <td>NaN</td>\n",
       "      <td>Dead</td>\n",
       "      <td>Taronga Zoo</td>\n",
       "      <td>1967-01-01</td>\n",
       "      <td>NaT</td>\n",
       "      <td>1986-12-24</td>\n",
       "      <td>19.991781</td>\n",
       "      <td>NaN</td>\n",
       "      <td>NaN</td>\n",
       "      <td>False</td>\n",
       "      <td>NaT</td>\n",
       "      <td>NaT</td>\n",
       "      <td>NaT</td>\n",
       "      <td>NaN</td>\n",
       "      <td>NaN</td>\n",
       "      <td>NaN</td>\n",
       "      <td>kidney stones, haematuria, old age</td>\n",
       "      <td>False</td>\n",
       "      <td>True</td>\n",
       "      <td>False</td>\n",
       "      <td>False</td>\n",
       "      <td>False</td>\n",
       "      <td>False</td>\n",
       "      <td>False</td>\n",
       "      <td>False</td>\n",
       "      <td>False</td>\n",
       "      <td>False</td>\n",
       "      <td>False</td>\n",
       "      <td>False</td>\n",
       "      <td>False</td>\n",
       "      <td>False</td>\n",
       "      <td>False</td>\n",
       "      <td>NaN</td>\n",
       "      <td>NaN</td>\n",
       "      <td>False</td>\n",
       "      <td>NaN</td>\n",
       "      <td>NaN</td>\n",
       "      <td>NaN</td>\n",
       "      <td>False</td>\n",
       "      <td>False</td>\n",
       "      <td>NaN</td>\n",
       "      <td>False</td>\n",
       "      <td>NaN</td>\n",
       "      <td>False</td>\n",
       "      <td>True</td>\n",
       "    </tr>\n",
       "  </tbody>\n",
       "</table>\n",
       "</div>"
      ],
      "text/plain": [
       "  Animal Name ARKS Number Microchip Number Species (common name)     Sex  \\\n",
       "0       Amber      800100              NaN                  Lion  female   \n",
       "1      Askari      A49221     00-0643-10BA               Cheetah    male   \n",
       "2      Audrey      890000     7F-7F4A-2238          Asiatic Lion  female   \n",
       "3      Bengal         K46              NaN          Bengal Tiger    male   \n",
       "4   Blackfoot       K0095              NaN               Leopard  female   \n",
       "\n",
       "  Alternative ARKS Nos Studbook Number           GAN ID  \\\n",
       "0                  NaN             NaN              NaN   \n",
       "1                  NaN            6132  MIG12-029516691   \n",
       "2                  NaN              88   MIG12-25946946   \n",
       "3                  NaN             NaN              NaN   \n",
       "4                  NaN             NaN              NaN   \n",
       "\n",
       "  Status (alive/deceased/transacted)        Zoo Location Date  of Birth  \\\n",
       "0                               Dead         Taronga Zoo     1980-12-08   \n",
       "1                               Dead         Monarto Zoo     2004-09-11   \n",
       "2                               Dead  Western Plains Zoo     1980-02-27   \n",
       "3                               Dead         Taronga Zoo            NaT   \n",
       "4                               Dead         Taronga Zoo     1967-01-01   \n",
       "\n",
       "  Date of Transaction Date of Death  Age in years at death  \\\n",
       "0                 NaT    1982-04-24               1.375342   \n",
       "1                 NaT    2013-04-04               8.567123   \n",
       "2                 NaT    2001-07-03              21.361644   \n",
       "3                 NaT    1973-05-23                    NaN   \n",
       "4                 NaT    1986-12-24              19.991781   \n",
       "\n",
       "   Date of Onset of Azoatemia  Date of USG less than 1,035  \\\n",
       "0                         NaN                          NaN   \n",
       "1                         NaN                          NaN   \n",
       "2                         NaN                          NaN   \n",
       "3                         NaN                          NaN   \n",
       "4                         NaN                          NaN   \n",
       "\n",
       "   Ante-mortem Dx of CKD Date of first low USG Onset of azotaemia  \\\n",
       "0                  False                   NaT                NaT   \n",
       "1                  False            2013-04-04         2013-03-03   \n",
       "2                   True            1998-05-28         2001-03-01   \n",
       "3                   True                   NaT                NaT   \n",
       "4                  False                   NaT                NaT   \n",
       "\n",
       "  Date of diagnosis       Comments re kidney function First report of CKD CS  \\\n",
       "0               NaT                               NaN                    NaN   \n",
       "1               NaT                               NaN                    NaN   \n",
       "2        2001-03-01                               NaN                    NaN   \n",
       "3        1973-01-23  history of vomiting and anorexia                    NaN   \n",
       "4               NaT                               NaN                    NaN   \n",
       "\n",
       "  Age at Death                      Cause of Death  Acute kidney failure  \\\n",
       "0      1y4m16d           euthanasia- renal failure                 False   \n",
       "1      8y6m22d               CKD and corneal ulcer                 False   \n",
       "2          NaN                                 CKD                 False   \n",
       "3          old                                 CKD                 False   \n",
       "4          NaN  kidney stones, haematuria, old age                 False   \n",
       "\n",
       "   CKD - cause of mortality  CKD - co-morbidity  Pyometra (survived)  \\\n",
       "0                      True               False                False   \n",
       "1                      True               False                False   \n",
       "2                      True               False                 True   \n",
       "3                      True               False                False   \n",
       "4                      True               False                False   \n",
       "\n",
       "   Pyometra cause of death  Unknown  Neonatal  Neurological  Endocrine  \\\n",
       "0                    False    False     False         False      False   \n",
       "1                    False    False     False         False      False   \n",
       "2                    False    False     False         False      False   \n",
       "3                    False    False     False         False      False   \n",
       "4                    False    False     False         False      False   \n",
       "\n",
       "   Neoplasia  Old Age debility  Trauma  Infection    GIT  \\\n",
       "0      False             False   False      False  False   \n",
       "1      False             False   False      False  False   \n",
       "2      False             False   False      False  False   \n",
       "3      False             False   False      False  False   \n",
       "4      False             False   False      False  False   \n",
       "\n",
       "   Respiratory/Cardiovascular Pathology Report Numbers  \\\n",
       "0                       False                      NaN   \n",
       "1                       False                      NaN   \n",
       "2                       False                      NaN   \n",
       "3                       False                      NaN   \n",
       "4                       False                      NaN   \n",
       "\n",
       "  Post Mortem Report Number  International transaction Dam ARKS Number  \\\n",
       "0                       NaN                      False             NaN   \n",
       "1                       NaN                      False             NaN   \n",
       "2                       NaN                      False             NaN   \n",
       "3                       NaN                      False             NaN   \n",
       "4                       NaN                      False             NaN   \n",
       "\n",
       "  Sire ARKS Number Sibling ARKS Number  Transacted internationally  \\\n",
       "0              NaN                 NaN                       False   \n",
       "1              NaN                 NaN                       False   \n",
       "2              NaN                 NaN                        True   \n",
       "3              NaN                 NaN                       False   \n",
       "4              NaN                 NaN                       False   \n",
       "\n",
       "   Hand-raised Housing (confined enclosure/open range)  Excluded from study?  \\\n",
       "0        False                                     NaN                  True   \n",
       "1        False                                     NaN                 False   \n",
       "2        False                                     NaN                 False   \n",
       "3        False                                     NaN                 False   \n",
       "4        False                                     NaN                 False   \n",
       "\n",
       "                                           Comments:  Biochem data  Urine data  \n",
       "0  No biochem data. No clinical history. No PM re...         False        True  \n",
       "1                                                NaN          True        True  \n",
       "2                      Born LincolnPark Zoo, Chicago          True        True  \n",
       "3                   PM report, but no USG or biochem         False       False  \n",
       "4                                                NaN         False        True  "
      ]
     },
     "execution_count": 3,
     "metadata": {},
     "output_type": "execute_result"
    }
   ],
   "source": [
    "cats.head()"
   ]
  },
  {
   "cell_type": "code",
   "execution_count": 4,
   "id": "87d629fa",
   "metadata": {},
   "outputs": [],
   "source": [
    "cat_cols = ['ARKS Number', 'Species (common name)', 'Sex','Date  of Birth', 'Date of Death', 'Age in years at death', 'Date of Onset of Azoatemia',\n",
    "       'Date of USG less than 1,035', 'Ante-mortem Dx of CKD',\n",
    "       'Date of first low USG', 'Onset of azotaemia', 'Date of diagnosis',\n",
    "       'Comments re kidney function', 'First report of CKD CS', 'Age at Death',\n",
    "       'Cause of Death', 'Acute kidney failure', 'CKD - cause of mortality',\n",
    "       'CKD - co-morbidity', 'Excluded from study?']"
   ]
  },
  {
   "cell_type": "code",
   "execution_count": 5,
   "id": "30369d10",
   "metadata": {},
   "outputs": [],
   "source": [
    "# merge lab visit infor to unified animal list on ARKS number\n",
    "df_ueber_data = pd.merge(left_on=['ARKS No'], right_on=['ARKS Number'], left=visits, right=cats[cat_cols])"
   ]
  },
  {
   "cell_type": "code",
   "execution_count": 6,
   "id": "d5e9c3f6",
   "metadata": {},
   "outputs": [
    {
     "data": {
      "text/plain": [
       "424"
      ]
     },
     "execution_count": 6,
     "metadata": {},
     "output_type": "execute_result"
    }
   ],
   "source": [
    "len(cats['ARKS Number'].unique())"
   ]
  },
  {
   "cell_type": "code",
   "execution_count": 7,
   "id": "88a3943c",
   "metadata": {},
   "outputs": [
    {
     "data": {
      "text/plain": [
       "382"
      ]
     },
     "execution_count": 7,
     "metadata": {},
     "output_type": "execute_result"
    }
   ],
   "source": [
    "len(visits['ARKS No'].unique())"
   ]
  },
  {
   "cell_type": "code",
   "execution_count": 8,
   "id": "508d3204",
   "metadata": {},
   "outputs": [
    {
     "data": {
      "text/plain": [
       "329"
      ]
     },
     "execution_count": 8,
     "metadata": {},
     "output_type": "execute_result"
    }
   ],
   "source": [
    "len(df_ueber_data['ARKS No'].unique())"
   ]
  },
  {
   "cell_type": "code",
   "execution_count": null,
   "id": "f0d409c7",
   "metadata": {},
   "outputs": [],
   "source": []
  },
  {
   "cell_type": "code",
   "execution_count": 9,
   "id": "34710bbe",
   "metadata": {},
   "outputs": [
    {
     "data": {
      "text/plain": [
       "False    409\n",
       "True      15\n",
       "Name: Excluded from study?, dtype: int64"
      ]
     },
     "execution_count": 9,
     "metadata": {},
     "output_type": "execute_result"
    }
   ],
   "source": [
    "cats['Excluded from study?'].value_counts()"
   ]
  },
  {
   "cell_type": "code",
   "execution_count": null,
   "id": "b57d5b9a",
   "metadata": {},
   "outputs": [],
   "source": []
  },
  {
   "cell_type": "code",
   "execution_count": null,
   "id": "fe400078",
   "metadata": {},
   "outputs": [],
   "source": []
  },
  {
   "cell_type": "code",
   "execution_count": 10,
   "id": "fa8ad1b8",
   "metadata": {},
   "outputs": [],
   "source": [
    "df_ueber_data.sort_values(by=['ARKS No', 'Date'], inplace=True)"
   ]
  },
  {
   "cell_type": "code",
   "execution_count": 11,
   "id": "3e9e2134",
   "metadata": {},
   "outputs": [
    {
     "name": "stderr",
     "output_type": "stream",
     "text": [
      "/Users/ruth/miniconda3/envs/vetAI/lib/python3.7/site-packages/ipykernel_launcher.py:3: SettingWithCopyWarning: \n",
      "A value is trying to be set on a copy of a slice from a DataFrame.\n",
      "Try using .loc[row_indexer,col_indexer] = value instead\n",
      "\n",
      "See the caveats in the documentation: https://pandas.pydata.org/pandas-docs/stable/user_guide/indexing.html#returning-a-view-versus-a-copy\n",
      "  This is separate from the ipykernel package so we can avoid doing imports until\n",
      "/Users/ruth/miniconda3/envs/vetAI/lib/python3.7/site-packages/ipykernel_launcher.py:7: SettingWithCopyWarning: \n",
      "A value is trying to be set on a copy of a slice from a DataFrame.\n",
      "Try using .loc[row_indexer,col_indexer] = value instead\n",
      "\n",
      "See the caveats in the documentation: https://pandas.pydata.org/pandas-docs/stable/user_guide/indexing.html#returning-a-view-versus-a-copy\n",
      "  import sys\n"
     ]
    }
   ],
   "source": [
    "# cats dead from CKD\n",
    "cases = df_ueber_data[(df_ueber_data['CKD - cause of mortality'] == True) & (~df_ueber_data['Date of Death'].isnull())]\n",
    "cases['label'] = 1\n",
    "\n",
    "# cats not dead from CKD but with date of death\n",
    "controls = df_ueber_data[(df_ueber_data['CKD - cause of mortality'] == False) & (df_ueber_data['CKD - co-morbidity'] == False) &(~df_ueber_data['Date of Death'].isnull())]\n",
    "controls['label'] = 0"
   ]
  },
  {
   "cell_type": "code",
   "execution_count": 12,
   "id": "acdd4ca5",
   "metadata": {},
   "outputs": [
    {
     "name": "stdout",
     "output_type": "stream",
     "text": [
      "cases\n",
      "701\n",
      "61\n",
      "controls\n",
      "352\n",
      "77\n"
     ]
    }
   ],
   "source": [
    "print('cases')\n",
    "print(len(cases))\n",
    "print(len(cases['ARKS No'].unique()))\n",
    "print('controls')\n",
    "print(len(controls))\n",
    "print(len(controls['ARKS No'].unique()))"
   ]
  },
  {
   "cell_type": "code",
   "execution_count": 19,
   "id": "df9fac20",
   "metadata": {},
   "outputs": [],
   "source": [
    "sample_df = pd.concat([cases, controls], axis=0)"
   ]
  },
  {
   "cell_type": "code",
   "execution_count": null,
   "id": "788dab73",
   "metadata": {},
   "outputs": [],
   "source": []
  },
  {
   "cell_type": "code",
   "execution_count": 26,
   "id": "ec5a9877",
   "metadata": {},
   "outputs": [],
   "source": [
    "def cat_filter(df_in, exclude_delta_days):\n",
    "    # make cols dataetime\n",
    "    df_in['Date of Death'] = pd.to_datetime(df_in['Date of Death'])\n",
    "    df_in['Date'] = pd.to_datetime(df_in['Date'])\n",
    "    \n",
    "    # make col\n",
    "    df_in['number_days_before_death'] = (df_in['Date of Death'] - df_in['Date']).dt.days\n",
    "    \n",
    "    \n",
    "    return df_in[df_in['number_days_before_death'] > exclude_delta_days]"
   ]
  },
  {
   "cell_type": "code",
   "execution_count": 42,
   "id": "db2ce915",
   "metadata": {},
   "outputs": [],
   "source": [
    "num_case = []\n",
    "num_control = []\n",
    "    \n",
    "num_case_2visit = []\n",
    "num_control_2visit = []\n",
    "\n",
    "\n",
    "for days in range(30, 1080, 30):\n",
    "    \n",
    "    sample = cat_filter(sample_df, days)\n",
    "    sample_case = sample[sample['label']==1]\n",
    "    sample_control = sample[sample['label']==0]\n",
    "    \n",
    "    num_case.append(len(sample_case['ARKS No'].unique()))\n",
    "    num_control.append(len(sample_control['ARKS No'].unique()))\n",
    "    \n",
    "    # do smae for cats with min 2 visits\n",
    "    cats_case = sample_case.groupby(['ARKS No']).size().reset_index(name='counts')\n",
    "    num_case_2visit.append( len(cats_case[cats_case['counts']>1]))\n",
    "    \n",
    "    # do smae for cats with min 2 visits\n",
    "    cats_control = sample_control.groupby(['ARKS No']).size().reset_index(name='counts')\n",
    "    num_control_2visit.append( len(cats_control[cats_control['counts']>1]))\n",
    "    "
   ]
  },
  {
   "cell_type": "code",
   "execution_count": 43,
   "id": "111b9c43",
   "metadata": {},
   "outputs": [
    {
     "data": {
      "text/plain": [
       "[<matplotlib.lines.Line2D at 0x7fc9e982b208>]"
      ]
     },
     "execution_count": 43,
     "metadata": {},
     "output_type": "execute_result"
    },
    {
     "data": {
      "image/png": "[encoded data removed]",
      "text/plain": [
       "<Figure size 432x288 with 1 Axes>"
      ]
     },
     "metadata": {
      "needs_background": "light"
     },
     "output_type": "display_data"
    }
   ],
   "source": [
    "import matplotlib.pyplot as plt\n",
    "plt.plot(range(30, 1080, 30), num_case)"
   ]
  },
  {
   "cell_type": "code",
   "execution_count": 44,
   "id": "3ce7a79e",
   "metadata": {},
   "outputs": [
    {
     "data": {
      "text/plain": [
       "[<matplotlib.lines.Line2D at 0x7fc9e9999860>]"
      ]
     },
     "execution_count": 44,
     "metadata": {},
     "output_type": "execute_result"
    },
    {
     "data": {
      "image/png": "[encoded data removed]",
      "text/plain": [
       "<Figure size 432x288 with 1 Axes>"
      ]
     },
     "metadata": {
      "needs_background": "light"
     },
     "output_type": "display_data"
    }
   ],
   "source": [
    "plt.plot(range(30, 1080, 30), num_control)"
   ]
  },
  {
   "cell_type": "code",
   "execution_count": 45,
   "id": "153d56b5",
   "metadata": {},
   "outputs": [
    {
     "data": {
      "text/plain": [
       "[<matplotlib.lines.Line2D at 0x7fc9c8308a90>]"
      ]
     },
     "execution_count": 45,
     "metadata": {},
     "output_type": "execute_result"
    },
    {
     "data": {
      "image/png": "[encoded data removed]",
      "text/plain": [
       "<Figure size 432x288 with 1 Axes>"
      ]
     },
     "metadata": {
      "needs_background": "light"
     },
     "output_type": "display_data"
    }
   ],
   "source": [
    "plt.plot(range(30, 1080, 30), num_case_2visit)"
   ]
  },
  {
   "cell_type": "code",
   "execution_count": 46,
   "id": "a822985d",
   "metadata": {},
   "outputs": [
    {
     "data": {
      "text/plain": [
       "[<matplotlib.lines.Line2D at 0x7fc9e9a040b8>]"
      ]
     },
     "execution_count": 46,
     "metadata": {},
     "output_type": "execute_result"
    },
    {
     "data": {
      "image/png": "[encoded data removed]",
      "text/plain": [
       "<Figure size 432x288 with 1 Axes>"
      ]
     },
     "metadata": {
      "needs_background": "light"
     },
     "output_type": "display_data"
    }
   ],
   "source": [
    "plt.plot(range(30, 1080, 30), num_control_2visit)"
   ]
  },
  {
   "cell_type": "code",
   "execution_count": null,
   "id": "ec9ab0e6",
   "metadata": {},
   "outputs": [],
   "source": []
  }
 ],
 "metadata": {
  "kernelspec": {
   "display_name": "vetAI",
   "language": "python",
   "name": "vetai"
  },
  "language_info": {
   "codemirror_mode": {
    "name": "ipython",
    "version": 3
   },
   "file_extension": ".py",
   "mimetype": "text/x-python",
   "name": "python",
   "nbconvert_exporter": "python",
   "pygments_lexer": "ipython3",
   "version": "3.7.3"
  }
 },
 "nbformat": 4,
 "nbformat_minor": 5
}
