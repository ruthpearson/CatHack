{
 "cells": [
  {
   "cell_type": "code",
   "execution_count": 1,
   "metadata": {},
   "outputs": [],
   "source": [
    "import pandas as pd\n",
    "pd.set_option('display.max_rows', 500)\n",
    "pd.set_option('display.max_columns', 500)"
   ]
  },
  {
   "cell_type": "markdown",
   "metadata": {},
   "source": [
    "## Set up data"
   ]
  },
  {
   "cell_type": "code",
   "execution_count": 2,
   "metadata": {},
   "outputs": [],
   "source": [
    "columns = ['Database Name', 'Patient Number', 'Client Number', 'Consultation Number', 'Item Name', 'Units',\n",
    "           'Item Label', 'Clinic Code', 'Consulting Vet', 'Patient Desexed', 'Deceased Date',\n",
    "           'Visit Date', 'Consultation Date', 'Examination Text' ,'Patient Species', 'Patient Breed',\n",
    "           'Patient Colour', 'Patient Sex', 'Patient Date of Birth', 'Insured', 'weight', 'temperature',\n",
    "           'HeartRate', 'BodyScore', 'DentalGrade', 'RespRate', 'PainScore', 'BP', 'CRT', 'MMColour']"
   ]
  },
  {
   "cell_type": "code",
   "execution_count": 3,
   "metadata": {},
   "outputs": [
    {
     "name": "stderr",
     "output_type": "stream",
     "text": [
      "/anaconda3/envs/vetAI/lib/python3.7/site-packages/IPython/core/interactiveshell.py:3057: DtypeWarning: Columns (1,2,3,19,20,21,22,25,27) have mixed types. Specify dtype option on import or set low_memory=False.\n",
      "  interactivity=interactivity, compiler=compiler, result=result)\n"
     ]
    }
   ],
   "source": [
    "data_dir = '../Data/vet_compass/'\n",
    "data = pd.read_csv(data_dir + 'STR024A03 20190719 sample x10,000.csv', names = columns)"
   ]
  },
  {
   "cell_type": "markdown",
   "metadata": {},
   "source": [
    "## Explore vital signs columns"
   ]
  },
  {
   "cell_type": "code",
   "execution_count": 4,
   "metadata": {},
   "outputs": [
    {
     "name": "stdout",
     "output_type": "stream",
     "text": [
      "object\n",
      "object\n",
      "object\n",
      "object\n",
      "object\n",
      "object\n",
      "object\n",
      "object\n",
      "object\n",
      "object\n"
     ]
    }
   ],
   "source": [
    "vitalsigns = ['weight', 'temperature', 'HeartRate', 'BodyScore', 'DentalGrade', 'RespRate', 'PainScore', 'BP', 'CRT', 'MMColour']\n",
    "\n",
    "for sign in vitalsigns:\n",
    "    print(data[sign].dtype)"
   ]
  },
  {
   "cell_type": "code",
   "execution_count": 5,
   "metadata": {},
   "outputs": [
    {
     "data": {
      "text/html": [
       "<div>\n",
       "<style scoped>\n",
       "    .dataframe tbody tr th:only-of-type {\n",
       "        vertical-align: middle;\n",
       "    }\n",
       "\n",
       "    .dataframe tbody tr th {\n",
       "        vertical-align: top;\n",
       "    }\n",
       "\n",
       "    .dataframe thead th {\n",
       "        text-align: right;\n",
       "    }\n",
       "</style>\n",
       "<table border=\"1\" class=\"dataframe\">\n",
       "  <thead>\n",
       "    <tr style=\"text-align: right;\">\n",
       "      <th></th>\n",
       "      <th>weight</th>\n",
       "      <th>temperature</th>\n",
       "      <th>HeartRate</th>\n",
       "      <th>BodyScore</th>\n",
       "      <th>DentalGrade</th>\n",
       "      <th>RespRate</th>\n",
       "      <th>PainScore</th>\n",
       "      <th>BP</th>\n",
       "      <th>CRT</th>\n",
       "      <th>MMColour</th>\n",
       "    </tr>\n",
       "  </thead>\n",
       "  <tbody>\n",
       "    <tr>\n",
       "      <th>count</th>\n",
       "      <td>318629</td>\n",
       "      <td>112138</td>\n",
       "      <td>117336</td>\n",
       "      <td>99396</td>\n",
       "      <td>94292</td>\n",
       "      <td>70632</td>\n",
       "      <td>22699</td>\n",
       "      <td>3089</td>\n",
       "      <td>102755</td>\n",
       "      <td>112096</td>\n",
       "    </tr>\n",
       "    <tr>\n",
       "      <th>unique</th>\n",
       "      <td>1920</td>\n",
       "      <td>340</td>\n",
       "      <td>406</td>\n",
       "      <td>187</td>\n",
       "      <td>308</td>\n",
       "      <td>283</td>\n",
       "      <td>113</td>\n",
       "      <td>123</td>\n",
       "      <td>202</td>\n",
       "      <td>358</td>\n",
       "    </tr>\n",
       "    <tr>\n",
       "      <th>top</th>\n",
       "      <td>4.5</td>\n",
       "      <td>38.6</td>\n",
       "      <td>180</td>\n",
       "      <td>5/9</td>\n",
       "      <td>0</td>\n",
       "      <td>24</td>\n",
       "      <td>0</td>\n",
       "      <td>-</td>\n",
       "      <td>&lt;2</td>\n",
       "      <td>pink</td>\n",
       "    </tr>\n",
       "    <tr>\n",
       "      <th>freq</th>\n",
       "      <td>5908</td>\n",
       "      <td>8547</td>\n",
       "      <td>20327</td>\n",
       "      <td>20524</td>\n",
       "      <td>27480</td>\n",
       "      <td>9030</td>\n",
       "      <td>13815</td>\n",
       "      <td>1566</td>\n",
       "      <td>31601</td>\n",
       "      <td>70763</td>\n",
       "    </tr>\n",
       "  </tbody>\n",
       "</table>\n",
       "</div>"
      ],
      "text/plain": [
       "        weight temperature HeartRate BodyScore DentalGrade RespRate PainScore  \\\n",
       "count   318629      112138    117336     99396       94292    70632     22699   \n",
       "unique    1920         340       406       187         308      283       113   \n",
       "top        4.5        38.6       180       5/9           0       24         0   \n",
       "freq      5908        8547     20327     20524       27480     9030     13815   \n",
       "\n",
       "          BP     CRT MMColour  \n",
       "count   3089  102755   112096  \n",
       "unique   123     202      358  \n",
       "top        -      <2     pink  \n",
       "freq    1566   31601    70763  "
      ]
     },
     "execution_count": 5,
     "metadata": {},
     "output_type": "execute_result"
    }
   ],
   "source": [
    "data[vitalsigns].describe()"
   ]
  },
  {
   "cell_type": "code",
   "execution_count": 6,
   "metadata": {},
   "outputs": [
    {
     "data": {
      "text/html": [
       "<div>\n",
       "<style scoped>\n",
       "    .dataframe tbody tr th:only-of-type {\n",
       "        vertical-align: middle;\n",
       "    }\n",
       "\n",
       "    .dataframe tbody tr th {\n",
       "        vertical-align: top;\n",
       "    }\n",
       "\n",
       "    .dataframe thead th {\n",
       "        text-align: right;\n",
       "    }\n",
       "</style>\n",
       "<table border=\"1\" class=\"dataframe\">\n",
       "  <thead>\n",
       "    <tr style=\"text-align: right;\">\n",
       "      <th></th>\n",
       "      <th>index</th>\n",
       "      <th>count</th>\n",
       "      <th>proportion</th>\n",
       "    </tr>\n",
       "  </thead>\n",
       "  <tbody>\n",
       "    <tr>\n",
       "      <th>0</th>\n",
       "      <td>weight</td>\n",
       "      <td>318629</td>\n",
       "      <td>0.440918</td>\n",
       "    </tr>\n",
       "    <tr>\n",
       "      <th>2</th>\n",
       "      <td>HeartRate</td>\n",
       "      <td>117336</td>\n",
       "      <td>0.162369</td>\n",
       "    </tr>\n",
       "    <tr>\n",
       "      <th>1</th>\n",
       "      <td>temperature</td>\n",
       "      <td>112138</td>\n",
       "      <td>0.155176</td>\n",
       "    </tr>\n",
       "    <tr>\n",
       "      <th>9</th>\n",
       "      <td>MMColour</td>\n",
       "      <td>112096</td>\n",
       "      <td>0.155118</td>\n",
       "    </tr>\n",
       "    <tr>\n",
       "      <th>8</th>\n",
       "      <td>CRT</td>\n",
       "      <td>102755</td>\n",
       "      <td>0.142192</td>\n",
       "    </tr>\n",
       "    <tr>\n",
       "      <th>3</th>\n",
       "      <td>BodyScore</td>\n",
       "      <td>99396</td>\n",
       "      <td>0.137544</td>\n",
       "    </tr>\n",
       "    <tr>\n",
       "      <th>4</th>\n",
       "      <td>DentalGrade</td>\n",
       "      <td>94292</td>\n",
       "      <td>0.130481</td>\n",
       "    </tr>\n",
       "    <tr>\n",
       "      <th>5</th>\n",
       "      <td>RespRate</td>\n",
       "      <td>70632</td>\n",
       "      <td>0.097740</td>\n",
       "    </tr>\n",
       "    <tr>\n",
       "      <th>6</th>\n",
       "      <td>PainScore</td>\n",
       "      <td>22699</td>\n",
       "      <td>0.031411</td>\n",
       "    </tr>\n",
       "    <tr>\n",
       "      <th>7</th>\n",
       "      <td>BP</td>\n",
       "      <td>3089</td>\n",
       "      <td>0.004275</td>\n",
       "    </tr>\n",
       "  </tbody>\n",
       "</table>\n",
       "</div>"
      ],
      "text/plain": [
       "         index   count  proportion\n",
       "0       weight  318629    0.440918\n",
       "2    HeartRate  117336    0.162369\n",
       "1  temperature  112138    0.155176\n",
       "9     MMColour  112096    0.155118\n",
       "8          CRT  102755    0.142192\n",
       "3    BodyScore   99396    0.137544\n",
       "4  DentalGrade   94292    0.130481\n",
       "5     RespRate   70632    0.097740\n",
       "6    PainScore   22699    0.031411\n",
       "7           BP    3089    0.004275"
      ]
     },
     "execution_count": 6,
     "metadata": {},
     "output_type": "execute_result"
    }
   ],
   "source": [
    "data_count = data[vitalsigns].count().reset_index(name='count').sort_values(['count'], ascending=False)\n",
    "data_count['proportion'] = data_count['count']/data.shape[0]\n",
    "\n",
    "data_count"
   ]
  },
  {
   "cell_type": "markdown",
   "metadata": {},
   "source": [
    "Weight is the vital sign with the largest number of non-nan entries (44%), followed by heart rate (16%). Unfortunately, heart rate and blood pressure could be strongly influenced by being at the vet, so these may not be so useful. Worth looking into heart rate anyway, given data availability."
   ]
  }
 ],
 "metadata": {
  "kernelspec": {
   "display_name": "vetAI",
   "language": "python",
   "name": "vetai"
  },
  "language_info": {
   "codemirror_mode": {
    "name": "ipython",
    "version": 3
   },
   "file_extension": ".py",
   "mimetype": "text/x-python",
   "name": "python",
   "nbconvert_exporter": "python",
   "pygments_lexer": "ipython3",
   "version": "3.7.3"
  }
 },
 "nbformat": 4,
 "nbformat_minor": 4
}
