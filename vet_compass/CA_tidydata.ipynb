{
 "cells": [
  {
   "cell_type": "code",
   "execution_count": 1,
   "metadata": {},
   "outputs": [],
   "source": [
    "import pandas as pd\n",
    "import numpy as np\n",
    "import matplotlib.pyplot as plt\n",
    "pd.set_option('display.max_rows', 500)\n",
    "pd.set_option('display.max_columns', 500)"
   ]
  },
  {
   "cell_type": "markdown",
   "metadata": {},
   "source": [
    "## Set up data"
   ]
  },
  {
   "cell_type": "code",
   "execution_count": 2,
   "metadata": {},
   "outputs": [],
   "source": [
    "columns = ['Database Name', 'Patient Number', 'Client Number', 'Consultation Number', 'Item Name', 'Units',\n",
    "           'Item Label', 'Clinic Code', 'Consulting Vet', 'Patient Desexed', 'Deceased Date',\n",
    "           'Visit Date', 'Consultation Date', 'Examination Text' ,'Patient Species', 'Patient Breed',\n",
    "           'Patient Colour', 'Patient Sex', 'Patient Date of Birth', 'Insured', 'weight', 'temperature',\n",
    "           'HeartRate', 'BodyScore', 'DentalGrade', 'RespRate', 'PainScore', 'BP', 'CRT', 'MMColour']"
   ]
  },
  {
   "cell_type": "code",
   "execution_count": 3,
   "metadata": {},
   "outputs": [
    {
     "name": "stderr",
     "output_type": "stream",
     "text": [
      "/Users/caitlinadams/opt/anaconda3/envs/vetAI/lib/python3.7/site-packages/IPython/core/interactiveshell.py:3057: DtypeWarning: Columns (1,2,3,19,20,21,22,25,27) have mixed types. Specify dtype option on import or set low_memory=False.\n",
      "  interactivity=interactivity, compiler=compiler, result=result)\n"
     ]
    }
   ],
   "source": [
    "data_dir = '../Data/vet_compass/'\n",
    "data = pd.read_csv(data_dir + 'STR024A03 20190719 sample x10,000.csv', names = columns)"
   ]
  },
  {
   "cell_type": "code",
   "execution_count": 4,
   "metadata": {},
   "outputs": [
    {
     "data": {
      "text/html": [
       "<div>\n",
       "<style scoped>\n",
       "    .dataframe tbody tr th:only-of-type {\n",
       "        vertical-align: middle;\n",
       "    }\n",
       "\n",
       "    .dataframe tbody tr th {\n",
       "        vertical-align: top;\n",
       "    }\n",
       "\n",
       "    .dataframe thead th {\n",
       "        text-align: right;\n",
       "    }\n",
       "</style>\n",
       "<table border=\"1\" class=\"dataframe\">\n",
       "  <thead>\n",
       "    <tr style=\"text-align: right;\">\n",
       "      <th></th>\n",
       "      <th>Database Name</th>\n",
       "      <th>Patient Number</th>\n",
       "      <th>Client Number</th>\n",
       "      <th>Consultation Number</th>\n",
       "      <th>Item Name</th>\n",
       "      <th>Units</th>\n",
       "      <th>Item Label</th>\n",
       "      <th>Clinic Code</th>\n",
       "      <th>Consulting Vet</th>\n",
       "      <th>Patient Desexed</th>\n",
       "      <th>Deceased Date</th>\n",
       "      <th>Visit Date</th>\n",
       "      <th>Consultation Date</th>\n",
       "      <th>Examination Text</th>\n",
       "      <th>Patient Species</th>\n",
       "      <th>Patient Breed</th>\n",
       "      <th>Patient Colour</th>\n",
       "      <th>Patient Sex</th>\n",
       "      <th>Patient Date of Birth</th>\n",
       "      <th>Insured</th>\n",
       "      <th>weight</th>\n",
       "      <th>temperature</th>\n",
       "      <th>HeartRate</th>\n",
       "      <th>BodyScore</th>\n",
       "      <th>DentalGrade</th>\n",
       "      <th>RespRate</th>\n",
       "      <th>PainScore</th>\n",
       "      <th>BP</th>\n",
       "      <th>CRT</th>\n",
       "      <th>MMColour</th>\n",
       "    </tr>\n",
       "  </thead>\n",
       "  <tbody>\n",
       "    <tr>\n",
       "      <th>0</th>\n",
       "      <td>RxNSW</td>\n",
       "      <td>7138614</td>\n",
       "      <td>NaN</td>\n",
       "      <td>13869415</td>\n",
       "      <td>NaN</td>\n",
       "      <td>NaN</td>\n",
       "      <td>NaN</td>\n",
       "      <td>1</td>\n",
       "      <td>WA1</td>\n",
       "      <td>1</td>\n",
       "      <td>NaN</td>\n",
       "      <td>2012-07-05 17:09:03.000</td>\n",
       "      <td>2012-07-05 17:09:03.000</td>\n",
       "      <td>-------------------- Fees Charged: -----------...</td>\n",
       "      <td>Cat</td>\n",
       "      <td>Persian</td>\n",
       "      <td>White</td>\n",
       "      <td>Female</td>\n",
       "      <td>2010-07-05 00:00:00.000</td>\n",
       "      <td>NaN</td>\n",
       "      <td>NaN</td>\n",
       "      <td>NaN</td>\n",
       "      <td>NaN</td>\n",
       "      <td>NaN</td>\n",
       "      <td>NaN</td>\n",
       "      <td>NaN</td>\n",
       "      <td>NaN</td>\n",
       "      <td>NaN</td>\n",
       "      <td>NaN</td>\n",
       "      <td>NaN</td>\n",
       "    </tr>\n",
       "    <tr>\n",
       "      <th>1</th>\n",
       "      <td>RxNSW</td>\n",
       "      <td>7737653</td>\n",
       "      <td>NaN</td>\n",
       "      <td>22925726</td>\n",
       "      <td>NaN</td>\n",
       "      <td>NaN</td>\n",
       "      <td>NaN</td>\n",
       "      <td>1</td>\n",
       "      <td>ZOU</td>\n",
       "      <td>1</td>\n",
       "      <td>NaN</td>\n",
       "      <td>2003-04-25 00:00:00.000</td>\n",
       "      <td>2003-04-25 00:00:00.000</td>\n",
       "      <td>NaN</td>\n",
       "      <td>Cat</td>\n",
       "      <td>Tonkinese</td>\n",
       "      <td>Lilac</td>\n",
       "      <td>Male</td>\n",
       "      <td>2002-11-26 00:00:00.000</td>\n",
       "      <td>NaN</td>\n",
       "      <td>NaN</td>\n",
       "      <td>NaN</td>\n",
       "      <td>NaN</td>\n",
       "      <td>NaN</td>\n",
       "      <td>NaN</td>\n",
       "      <td>NaN</td>\n",
       "      <td>NaN</td>\n",
       "      <td>NaN</td>\n",
       "      <td>NaN</td>\n",
       "      <td>NaN</td>\n",
       "    </tr>\n",
       "    <tr>\n",
       "      <th>2</th>\n",
       "      <td>RxNSW</td>\n",
       "      <td>7738120</td>\n",
       "      <td>NaN</td>\n",
       "      <td>22934344</td>\n",
       "      <td>NaN</td>\n",
       "      <td>NaN</td>\n",
       "      <td>NaN</td>\n",
       "      <td>1</td>\n",
       "      <td>ZOU</td>\n",
       "      <td>1</td>\n",
       "      <td>NaN</td>\n",
       "      <td>2004-01-10 00:00:00.000</td>\n",
       "      <td>2004-01-10 00:00:00.000</td>\n",
       "      <td>NaN</td>\n",
       "      <td>Cat</td>\n",
       "      <td>Domestic Medium Hair</td>\n",
       "      <td>Tortoiseshell</td>\n",
       "      <td>Female</td>\n",
       "      <td>2003-02-14 00:00:00.000</td>\n",
       "      <td>NaN</td>\n",
       "      <td>NaN</td>\n",
       "      <td>NaN</td>\n",
       "      <td>NaN</td>\n",
       "      <td>NaN</td>\n",
       "      <td>NaN</td>\n",
       "      <td>NaN</td>\n",
       "      <td>NaN</td>\n",
       "      <td>NaN</td>\n",
       "      <td>NaN</td>\n",
       "      <td>NaN</td>\n",
       "    </tr>\n",
       "    <tr>\n",
       "      <th>3</th>\n",
       "      <td>RxNSW</td>\n",
       "      <td>7745004</td>\n",
       "      <td>NaN</td>\n",
       "      <td>23043653</td>\n",
       "      <td>NaN</td>\n",
       "      <td>NaN</td>\n",
       "      <td>NaN</td>\n",
       "      <td>1</td>\n",
       "      <td>ZOU</td>\n",
       "      <td>1</td>\n",
       "      <td>NaN</td>\n",
       "      <td>2013-02-18 16:47:52.000</td>\n",
       "      <td>2013-02-18 16:47:52.000</td>\n",
       "      <td>NaN</td>\n",
       "      <td>Cat</td>\n",
       "      <td>Siamese</td>\n",
       "      <td>Lilac Point</td>\n",
       "      <td>Male</td>\n",
       "      <td>2008-07-20 00:00:00.000</td>\n",
       "      <td>NaN</td>\n",
       "      <td>NaN</td>\n",
       "      <td>NaN</td>\n",
       "      <td>NaN</td>\n",
       "      <td>NaN</td>\n",
       "      <td>NaN</td>\n",
       "      <td>NaN</td>\n",
       "      <td>NaN</td>\n",
       "      <td>NaN</td>\n",
       "      <td>NaN</td>\n",
       "      <td>NaN</td>\n",
       "    </tr>\n",
       "    <tr>\n",
       "      <th>4</th>\n",
       "      <td>RxNSW</td>\n",
       "      <td>7742894</td>\n",
       "      <td>NaN</td>\n",
       "      <td>23043708</td>\n",
       "      <td>NaN</td>\n",
       "      <td>NaN</td>\n",
       "      <td>NaN</td>\n",
       "      <td>1</td>\n",
       "      <td>ZOU</td>\n",
       "      <td>1</td>\n",
       "      <td>2013-11-05 10:00:34.000</td>\n",
       "      <td>2013-02-20 08:40:38.000</td>\n",
       "      <td>2013-02-20 08:40:38.000</td>\n",
       "      <td>Dental; Renal  Dz</td>\n",
       "      <td>Cat</td>\n",
       "      <td>Domestic Long Hair</td>\n",
       "      <td>Ginger &amp; White</td>\n",
       "      <td>Male</td>\n",
       "      <td>1994-03-16 00:00:00.000</td>\n",
       "      <td>NaN</td>\n",
       "      <td>NaN</td>\n",
       "      <td>NaN</td>\n",
       "      <td>NaN</td>\n",
       "      <td>NaN</td>\n",
       "      <td>NaN</td>\n",
       "      <td>NaN</td>\n",
       "      <td>NaN</td>\n",
       "      <td>NaN</td>\n",
       "      <td>NaN</td>\n",
       "      <td>NaN</td>\n",
       "    </tr>\n",
       "  </tbody>\n",
       "</table>\n",
       "</div>"
      ],
      "text/plain": [
       "  Database Name Patient Number Client Number Consultation Number Item Name  \\\n",
       "0         RxNSW        7138614           NaN            13869415       NaN   \n",
       "1         RxNSW        7737653           NaN            22925726       NaN   \n",
       "2         RxNSW        7738120           NaN            22934344       NaN   \n",
       "3         RxNSW        7745004           NaN            23043653       NaN   \n",
       "4         RxNSW        7742894           NaN            23043708       NaN   \n",
       "\n",
       "   Units Item Label  Clinic Code Consulting Vet  Patient Desexed  \\\n",
       "0    NaN        NaN            1            WA1                1   \n",
       "1    NaN        NaN            1            ZOU                1   \n",
       "2    NaN        NaN            1            ZOU                1   \n",
       "3    NaN        NaN            1            ZOU                1   \n",
       "4    NaN        NaN            1            ZOU                1   \n",
       "\n",
       "             Deceased Date               Visit Date        Consultation Date  \\\n",
       "0                      NaN  2012-07-05 17:09:03.000  2012-07-05 17:09:03.000   \n",
       "1                      NaN  2003-04-25 00:00:00.000  2003-04-25 00:00:00.000   \n",
       "2                      NaN  2004-01-10 00:00:00.000  2004-01-10 00:00:00.000   \n",
       "3                      NaN  2013-02-18 16:47:52.000  2013-02-18 16:47:52.000   \n",
       "4  2013-11-05 10:00:34.000  2013-02-20 08:40:38.000  2013-02-20 08:40:38.000   \n",
       "\n",
       "                                    Examination Text Patient Species  \\\n",
       "0  -------------------- Fees Charged: -----------...             Cat   \n",
       "1                                                NaN             Cat   \n",
       "2                                                NaN             Cat   \n",
       "3                                                NaN             Cat   \n",
       "4                                  Dental; Renal  Dz             Cat   \n",
       "\n",
       "          Patient Breed  Patient Colour Patient Sex    Patient Date of Birth  \\\n",
       "0               Persian           White      Female  2010-07-05 00:00:00.000   \n",
       "1             Tonkinese           Lilac        Male  2002-11-26 00:00:00.000   \n",
       "2  Domestic Medium Hair   Tortoiseshell      Female  2003-02-14 00:00:00.000   \n",
       "3               Siamese     Lilac Point        Male  2008-07-20 00:00:00.000   \n",
       "4    Domestic Long Hair  Ginger & White        Male  1994-03-16 00:00:00.000   \n",
       "\n",
       "  Insured weight temperature HeartRate BodyScore DentalGrade RespRate  \\\n",
       "0     NaN    NaN         NaN       NaN       NaN         NaN      NaN   \n",
       "1     NaN    NaN         NaN       NaN       NaN         NaN      NaN   \n",
       "2     NaN    NaN         NaN       NaN       NaN         NaN      NaN   \n",
       "3     NaN    NaN         NaN       NaN       NaN         NaN      NaN   \n",
       "4     NaN    NaN         NaN       NaN       NaN         NaN      NaN   \n",
       "\n",
       "  PainScore   BP  CRT MMColour  \n",
       "0       NaN  NaN  NaN      NaN  \n",
       "1       NaN  NaN  NaN      NaN  \n",
       "2       NaN  NaN  NaN      NaN  \n",
       "3       NaN  NaN  NaN      NaN  \n",
       "4       NaN  NaN  NaN      NaN  "
      ]
     },
     "execution_count": 4,
     "metadata": {},
     "output_type": "execute_result"
    }
   ],
   "source": [
    "data.head()"
   ]
  },
  {
   "cell_type": "markdown",
   "metadata": {},
   "source": [
    "## Explore vital signs columns"
   ]
  },
  {
   "cell_type": "code",
   "execution_count": 5,
   "metadata": {},
   "outputs": [
    {
     "name": "stdout",
     "output_type": "stream",
     "text": [
      "object\n",
      "object\n",
      "object\n",
      "object\n",
      "object\n",
      "object\n",
      "object\n",
      "object\n",
      "object\n",
      "object\n"
     ]
    }
   ],
   "source": [
    "vitalsigns = ['weight', 'temperature', 'HeartRate', 'BodyScore', 'DentalGrade', 'RespRate', 'PainScore', 'BP', 'CRT', 'MMColour']\n",
    "\n",
    "for sign in vitalsigns:\n",
    "    print(data[sign].dtype)"
   ]
  },
  {
   "cell_type": "code",
   "execution_count": 6,
   "metadata": {},
   "outputs": [
    {
     "data": {
      "text/html": [
       "<div>\n",
       "<style scoped>\n",
       "    .dataframe tbody tr th:only-of-type {\n",
       "        vertical-align: middle;\n",
       "    }\n",
       "\n",
       "    .dataframe tbody tr th {\n",
       "        vertical-align: top;\n",
       "    }\n",
       "\n",
       "    .dataframe thead th {\n",
       "        text-align: right;\n",
       "    }\n",
       "</style>\n",
       "<table border=\"1\" class=\"dataframe\">\n",
       "  <thead>\n",
       "    <tr style=\"text-align: right;\">\n",
       "      <th></th>\n",
       "      <th>weight</th>\n",
       "      <th>temperature</th>\n",
       "      <th>HeartRate</th>\n",
       "      <th>BodyScore</th>\n",
       "      <th>DentalGrade</th>\n",
       "      <th>RespRate</th>\n",
       "      <th>PainScore</th>\n",
       "      <th>BP</th>\n",
       "      <th>CRT</th>\n",
       "      <th>MMColour</th>\n",
       "    </tr>\n",
       "  </thead>\n",
       "  <tbody>\n",
       "    <tr>\n",
       "      <th>count</th>\n",
       "      <td>318629</td>\n",
       "      <td>112138</td>\n",
       "      <td>117336</td>\n",
       "      <td>99396</td>\n",
       "      <td>94292</td>\n",
       "      <td>70632</td>\n",
       "      <td>22699</td>\n",
       "      <td>3089</td>\n",
       "      <td>102755</td>\n",
       "      <td>112096</td>\n",
       "    </tr>\n",
       "    <tr>\n",
       "      <th>unique</th>\n",
       "      <td>1920</td>\n",
       "      <td>340</td>\n",
       "      <td>406</td>\n",
       "      <td>187</td>\n",
       "      <td>308</td>\n",
       "      <td>283</td>\n",
       "      <td>113</td>\n",
       "      <td>123</td>\n",
       "      <td>202</td>\n",
       "      <td>358</td>\n",
       "    </tr>\n",
       "    <tr>\n",
       "      <th>top</th>\n",
       "      <td>4.5</td>\n",
       "      <td>38.6</td>\n",
       "      <td>180</td>\n",
       "      <td>5/9</td>\n",
       "      <td>0</td>\n",
       "      <td>24</td>\n",
       "      <td>0</td>\n",
       "      <td>-</td>\n",
       "      <td>&lt;2</td>\n",
       "      <td>pink</td>\n",
       "    </tr>\n",
       "    <tr>\n",
       "      <th>freq</th>\n",
       "      <td>5908</td>\n",
       "      <td>8547</td>\n",
       "      <td>20327</td>\n",
       "      <td>20524</td>\n",
       "      <td>27480</td>\n",
       "      <td>9030</td>\n",
       "      <td>13815</td>\n",
       "      <td>1566</td>\n",
       "      <td>31601</td>\n",
       "      <td>70763</td>\n",
       "    </tr>\n",
       "  </tbody>\n",
       "</table>\n",
       "</div>"
      ],
      "text/plain": [
       "        weight temperature HeartRate BodyScore DentalGrade RespRate PainScore  \\\n",
       "count   318629      112138    117336     99396       94292    70632     22699   \n",
       "unique    1920         340       406       187         308      283       113   \n",
       "top        4.5        38.6       180       5/9           0       24         0   \n",
       "freq      5908        8547     20327     20524       27480     9030     13815   \n",
       "\n",
       "          BP     CRT MMColour  \n",
       "count   3089  102755   112096  \n",
       "unique   123     202      358  \n",
       "top        -      <2     pink  \n",
       "freq    1566   31601    70763  "
      ]
     },
     "execution_count": 6,
     "metadata": {},
     "output_type": "execute_result"
    }
   ],
   "source": [
    "data[vitalsigns].describe()"
   ]
  },
  {
   "cell_type": "code",
   "execution_count": 7,
   "metadata": {},
   "outputs": [
    {
     "data": {
      "text/html": [
       "<div>\n",
       "<style scoped>\n",
       "    .dataframe tbody tr th:only-of-type {\n",
       "        vertical-align: middle;\n",
       "    }\n",
       "\n",
       "    .dataframe tbody tr th {\n",
       "        vertical-align: top;\n",
       "    }\n",
       "\n",
       "    .dataframe thead th {\n",
       "        text-align: right;\n",
       "    }\n",
       "</style>\n",
       "<table border=\"1\" class=\"dataframe\">\n",
       "  <thead>\n",
       "    <tr style=\"text-align: right;\">\n",
       "      <th></th>\n",
       "      <th>index</th>\n",
       "      <th>count</th>\n",
       "      <th>proportion</th>\n",
       "    </tr>\n",
       "  </thead>\n",
       "  <tbody>\n",
       "    <tr>\n",
       "      <th>0</th>\n",
       "      <td>weight</td>\n",
       "      <td>318629</td>\n",
       "      <td>0.440918</td>\n",
       "    </tr>\n",
       "    <tr>\n",
       "      <th>2</th>\n",
       "      <td>HeartRate</td>\n",
       "      <td>117336</td>\n",
       "      <td>0.162369</td>\n",
       "    </tr>\n",
       "    <tr>\n",
       "      <th>1</th>\n",
       "      <td>temperature</td>\n",
       "      <td>112138</td>\n",
       "      <td>0.155176</td>\n",
       "    </tr>\n",
       "    <tr>\n",
       "      <th>9</th>\n",
       "      <td>MMColour</td>\n",
       "      <td>112096</td>\n",
       "      <td>0.155118</td>\n",
       "    </tr>\n",
       "    <tr>\n",
       "      <th>8</th>\n",
       "      <td>CRT</td>\n",
       "      <td>102755</td>\n",
       "      <td>0.142192</td>\n",
       "    </tr>\n",
       "    <tr>\n",
       "      <th>3</th>\n",
       "      <td>BodyScore</td>\n",
       "      <td>99396</td>\n",
       "      <td>0.137544</td>\n",
       "    </tr>\n",
       "    <tr>\n",
       "      <th>4</th>\n",
       "      <td>DentalGrade</td>\n",
       "      <td>94292</td>\n",
       "      <td>0.130481</td>\n",
       "    </tr>\n",
       "    <tr>\n",
       "      <th>5</th>\n",
       "      <td>RespRate</td>\n",
       "      <td>70632</td>\n",
       "      <td>0.097740</td>\n",
       "    </tr>\n",
       "    <tr>\n",
       "      <th>6</th>\n",
       "      <td>PainScore</td>\n",
       "      <td>22699</td>\n",
       "      <td>0.031411</td>\n",
       "    </tr>\n",
       "    <tr>\n",
       "      <th>7</th>\n",
       "      <td>BP</td>\n",
       "      <td>3089</td>\n",
       "      <td>0.004275</td>\n",
       "    </tr>\n",
       "  </tbody>\n",
       "</table>\n",
       "</div>"
      ],
      "text/plain": [
       "         index   count  proportion\n",
       "0       weight  318629    0.440918\n",
       "2    HeartRate  117336    0.162369\n",
       "1  temperature  112138    0.155176\n",
       "9     MMColour  112096    0.155118\n",
       "8          CRT  102755    0.142192\n",
       "3    BodyScore   99396    0.137544\n",
       "4  DentalGrade   94292    0.130481\n",
       "5     RespRate   70632    0.097740\n",
       "6    PainScore   22699    0.031411\n",
       "7           BP    3089    0.004275"
      ]
     },
     "execution_count": 7,
     "metadata": {},
     "output_type": "execute_result"
    }
   ],
   "source": [
    "data_count = data[vitalsigns].count().reset_index(name='count').sort_values(['count'], ascending=False)\n",
    "data_count['proportion'] = data_count['count']/data.shape[0]\n",
    "\n",
    "data_count"
   ]
  },
  {
   "cell_type": "markdown",
   "metadata": {},
   "source": [
    "Weight is the vital sign with the largest number of non-nan entries (44%), followed by heart rate (16%)."
   ]
  },
  {
   "cell_type": "markdown",
   "metadata": {},
   "source": [
    "## Clean weight data"
   ]
  },
  {
   "cell_type": "code",
   "execution_count": 8,
   "metadata": {},
   "outputs": [],
   "source": [
    "def clean_weights(df, grams_threshold=20):\n",
    "    \"\"\"\n",
    "    Clean weight column of VetCompass data inplace\n",
    "\n",
    "    Keyword arguments:\n",
    "    df -- pandas.DataFrame to clean, must contain a 'weight' column\n",
    "    grams_threshold -- threshold at which to assume an entered value is in grams\n",
    "    \n",
    "    Returns:\n",
    "    df -- modified pandas.DataFrame containing 'weight_kg' column. 'weight' column is dropped.\n",
    "    \"\"\"\n",
    "    \n",
    "    # Make a copy of the weight column to clean\n",
    "    df['weight_kg'] = df['weight']\n",
    "    \n",
    "    # Remove weights that are in cage or carrier\n",
    "    df.loc[df['weight_kg'].str.contains('cage|carrier', na=False), 'weight_kg'] = np.nan\n",
    "    \n",
    "    # make kg column with values extracted\n",
    "    # patterns: digits.,digits OR .,digits\n",
    "    df['weight_kg'] = df['weight_kg'].astype(str).str.extract(r'(\\d+[\\.,]*\\d*|[\\.,]\\d+)')\n",
    "    \n",
    "    # clean mistaken decimal points\n",
    "    df['weight_kg'] = df['weight_kg'].str.replace('\\.\\.|,\\.|\\.,|,', '.')\n",
    "    \n",
    "    # coerce to numeric\n",
    "    df['weight_kg'] = pd.to_numeric(df['weight_kg'], errors=\"coerce\")\n",
    "    \n",
    "    # find entries with values greater than 20 (likely in grams rather than kg)\n",
    "    df.loc[df['weight_kg']>grams_threshold, 'weight_kg'] = df['weight_kg']/1000.0\n",
    "    \n",
    "    # drop original weights column\n",
    "    df = df.drop('weight', axis=1)\n",
    "    \n",
    "    return df"
   ]
  },
  {
   "cell_type": "code",
   "execution_count": 9,
   "metadata": {},
   "outputs": [],
   "source": [
    "vitals = data[vitalsigns].copy()\n",
    "vitals_cleaned = clean_weights(vitals)"
   ]
  },
  {
   "cell_type": "code",
   "execution_count": 10,
   "metadata": {},
   "outputs": [
    {
     "name": "stdout",
     "output_type": "stream",
     "text": [
      "Original weight count = 318629\n",
      "Cleaned weight count = 318541\n",
      "Difference = 88\n"
     ]
    }
   ],
   "source": [
    "original_count = vitals['weight'].count()\n",
    "cleaned_count = vitals_cleaned['weight_kg'].count()\n",
    "\n",
    "print(f\"Original weight count = {original_count}\")\n",
    "print(f\"Cleaned weight count = {cleaned_count}\")\n",
    "print(f\"Difference = {original_count - cleaned_count}\")"
   ]
  },
  {
   "cell_type": "markdown",
   "metadata": {},
   "source": [
    "## Investigate DentalGrade data\n",
    "\n",
    "From [Greencross Vets](https://www.greencrossvets.com.au/pet-library/articles-of-interest/dental-grading-chart/). Not explicitly stated in that resource, but unique values and other checked resources may imply a fifth category of `0` for normal.\n",
    "\n",
    "* `0`: Normal\n",
    "* `1`: Marginal gingivitus, mild plaque and calculus. Can't see the plaque with the naked eye. \n",
    "* `2`: Gingival recession, plaque and calculus extend to root, furcation exposure, mild bone loss greater than 25%, possible furcation exposue. Starting to see plaque.\n",
    "* `3`: Ulcerated gingiva, plaque and calculus further down, 25-50% bone loss, possible furcation exposure. Starting to see calculus (harder than plaque)\n",
    "* `4`: Significant loss of gingiva, >50% bone loss, tooth mobility\n",
    "\n",
    "`Deciduous` (and any variants) refers to baby teeth. Could either assume normal in the absence of other comments or remove. `Permanent` (and any variants) refers to adult teeth. Cats have 26 deciduous teeth and 30 permanent teeth. `Gingiva` refers to the gums.\n",
    "\n",
    "`Gingivitis` is a condition in which the gums around the teeth become inflamed (red, swollen, and painful). `Periodontitis` is a severe gum infection, often resulting from untreated gingivitis. May be difficult to tie gingivitis to a specific score without more context from the text, as it can range from mild to severe.\n"
   ]
  },
  {
   "cell_type": "code",
   "execution_count": 11,
   "metadata": {},
   "outputs": [],
   "source": [
    "dental = pd.DataFrame(data[['Patient Number','DentalGrade']], columns=['Patient Number','DentalGrade'])"
   ]
  },
  {
   "cell_type": "code",
   "execution_count": 12,
   "metadata": {},
   "outputs": [
    {
     "data": {
      "text/html": [
       "<div>\n",
       "<style scoped>\n",
       "    .dataframe tbody tr th:only-of-type {\n",
       "        vertical-align: middle;\n",
       "    }\n",
       "\n",
       "    .dataframe tbody tr th {\n",
       "        vertical-align: top;\n",
       "    }\n",
       "\n",
       "    .dataframe thead th {\n",
       "        text-align: right;\n",
       "    }\n",
       "</style>\n",
       "<table border=\"1\" class=\"dataframe\">\n",
       "  <thead>\n",
       "    <tr style=\"text-align: right;\">\n",
       "      <th></th>\n",
       "      <th>Patient Number</th>\n",
       "      <th>DentalGrade</th>\n",
       "    </tr>\n",
       "  </thead>\n",
       "  <tbody>\n",
       "    <tr>\n",
       "      <th>0</th>\n",
       "      <td>7138614</td>\n",
       "      <td>NaN</td>\n",
       "    </tr>\n",
       "    <tr>\n",
       "      <th>1</th>\n",
       "      <td>7737653</td>\n",
       "      <td>NaN</td>\n",
       "    </tr>\n",
       "    <tr>\n",
       "      <th>2</th>\n",
       "      <td>7738120</td>\n",
       "      <td>NaN</td>\n",
       "    </tr>\n",
       "    <tr>\n",
       "      <th>3</th>\n",
       "      <td>7745004</td>\n",
       "      <td>NaN</td>\n",
       "    </tr>\n",
       "    <tr>\n",
       "      <th>4</th>\n",
       "      <td>7742894</td>\n",
       "      <td>NaN</td>\n",
       "    </tr>\n",
       "  </tbody>\n",
       "</table>\n",
       "</div>"
      ],
      "text/plain": [
       "  Patient Number DentalGrade\n",
       "0        7138614         NaN\n",
       "1        7737653         NaN\n",
       "2        7738120         NaN\n",
       "3        7745004         NaN\n",
       "4        7742894         NaN"
      ]
     },
     "execution_count": 12,
     "metadata": {},
     "output_type": "execute_result"
    }
   ],
   "source": [
    "dental.head()"
   ]
  },
  {
   "cell_type": "code",
   "execution_count": 13,
   "metadata": {},
   "outputs": [
    {
     "data": {
      "text/plain": [
       "count     94292\n",
       "unique      308\n",
       "top           0\n",
       "freq      27480\n",
       "Name: DentalGrade, dtype: object"
      ]
     },
     "execution_count": 13,
     "metadata": {},
     "output_type": "execute_result"
    }
   ],
   "source": [
    "dental[\"DentalGrade\"].describe()"
   ]
  },
  {
   "cell_type": "code",
   "execution_count": 14,
   "metadata": {},
   "outputs": [],
   "source": [
    "dental[\"DentalGrade\"] = dental[\"DentalGrade\"].str.lower()"
   ]
  },
  {
   "cell_type": "code",
   "execution_count": 15,
   "metadata": {},
   "outputs": [
    {
     "data": {
      "text/plain": [
       "array([nan, '1', '2', '0', '3', '2/2', '2/4', '3/4', 'decid', '1/4',\n",
       "       '0/4', '0-1', '1+', '1-2', '0.5/4', '2-3',\n",
       "       'nasty gingivitis. grade 2 plaque', '2 + +++ gingivitis', '0/1',\n",
       "       'gingivitis 4+', '32', '4', '1.5', '5', '0.5', '160', '-',\n",
       "       '3 tartar, 4periodontitis', '00', '2/4 calculus pms + gingivitis',\n",
       "       '1/5', '1/5 - needs dental scaling and polishing',\n",
       "       '1/4 calculus pms', '0/4 ',\n",
       "       '0/4 dental exam nad missing lower i3 rhs', 'normal',\n",
       "       '1/4 mild tartar carnassials', '1/6', '2-forl', '?', '1.5/5',\n",
       "       '2/6', '3/6',\n",
       "       '1/4 mild calculus on upper pms otherwise teeth good',\n",
       "       '1/4 mild plaque upper canines', '4/6', '0/5', '2/5', '3/5', '6/6',\n",
       "       '1-2/4', '3/4-5', '2-3/5', '1-2/5', '1/1', '0/0', '1/2', '3-4',\n",
       "       '3.5/4', '1/3', 'tartar', 'fair', 'good', '0.5/3', '4/5',\n",
       "       'no teeth', '5/9', 'good ', '0 ', '0-1/4',\n",
       "       'moderate tartar built up', '2-3/4', '4+', '2+', '5/5', '48', '.5',\n",
       "       '1 ', '2/3', '4/4', '2.5', 'x', '++', 'temp ', '1/4 ', 'deciduous',\n",
       "       '3/3', 'mouth healed well', '2/4 ', 'grade 2 ',\n",
       "       'adults coming through', 'temp', 'dec',\n",
       "       'retaiend deciduous canines', 'deciduous ', 'deciduous teeth ',\n",
       "       'deciduous/gingivitis', '2-3? needs dental xrays', 'mild tartar',\n",
       "       'not checked', 'g1', '2 molars', '0.25/4 ', '1.5/4', '0.25/4',\n",
       "       '2.5/4', 'dg2', 'o', 'juvinile', '<1', 'trace', 'decidious',\n",
       "       'decisious', 'd', 'decusuous', '1/trace', 'prophy - ', 'teething',\n",
       "       'teething ', 'teething  still', '0-1/9', '0-', 'baby', 'g2',\n",
       "       'just less than on tarter and ging', '<1/4', '0?', 'grade 1-2',\n",
       "       'kitten', 'baby teeth ', 'baby teeth', \"<1 on p4's\",\n",
       "       'lhs>rhs. gingivits.  grd 1 both sides', '0 few teeth',\n",
       "       'deciduous falling out', '0 but some gingivitis', '1-2b', '2b',\n",
       "       'prophy', 'deciduous dentition', '0a1b', 'dg1', '40', 'late 1',\n",
       "       'g3', '1 + extractions', 'prophy at most', 'not seen',\n",
       "       '0 see file', '0 baby teeth', '2*', 'dne', '1/0',\n",
       "       'deciduous teeth', 'g0/c1', 'g1/c0', 'c2/g1', 'c0/g0', 'c1/g1',\n",
       "       'c1/g2', 'c0/g1', '2/4 over molars', 'p', '3/4-few teeth remain',\n",
       "       '1, 2 on upper 4th pms', 'n.e.', 'early 1', 'n', '0.5-1', '05',\n",
       "       'appears 0',\n",
       "       '3-4 obvious gingival inflammation and plaque build up',\n",
       "       '1 - moderate calculus', '1-moderate calculus', 'juv',\n",
       "       '1 - black areas on ul pm3 and ur pm2+3', 'early g1',\n",
       "       '2/4 molars mostly', '2 ', '1+/5', '1 - 2', 'gngivitis g2',\n",
       "       ' 0 -1', ' g2 - 3', 'clear', '6/9', '2/1', 'c0g1', 'c1g0', 'c0g0',\n",
       "       'c2g2', 'c2g1', 'c1.g1', 'c2/g2', 'c1/g3', 'no chance', 'growl',\n",
       "       'g0-1', '0-2', '2 now 0', 'grade 2', '0-1/5', 'puppy', '0-i/iv',\n",
       "       '0/iv', 'i-ii/iv', '0/3', 'grade 2 tartar', '1 gingivitis', 'q',\n",
       "       'unable ot check', '2 tartar', '3 tartar',\n",
       "       '2 gingivitis and tartar', '-12/3', '<1/3', '2-3/3', 'g0', 'g',\n",
       "       'g2-3', 'g1.5', 'g1-2', 'g3-4', 'g4', '2mild', '1  canines',\n",
       "       '2/2 ', '1 -2 ', 'tartar present', '1/36', '<0.5', '3+', ' 0/4',\n",
       "       '36', '04', '2/4+ tooth root abcess', '1-4/4', '1/4 pm4s only ',\n",
       "       '0.5+', '0.25', 'temp teeth present', 'termp teeth', 'g0.5', '2/9',\n",
       "       '3-4/4', '80',\n",
       "       '2/4 with gingivitis & some gum resorptin on both upper canines',\n",
       "       '1/9', 'ne', '3.5/5', '2.5/5', '1/5 with carrie', '4-5', '4!',\n",
       "       '0.5 !', '1+/4', '1/3 0/3', '2/5 pm4 ', 'kitten gingivitis',\n",
       "       '1-2 ', '1/4 severe gingivitis ', '1s', 'late 2/4',\n",
       "       '2 dt resoprtive lesion', '2-3/', '+', '0/4 - many teeth missing',\n",
       "       '3/4 ', '21', '1/4 ump4s', 'minor tartar', '0/5 deciduous',\n",
       "       '1-3/4', '2/4 - suspect neck lesion 409', '1 on u molars ',\n",
       "       '1, 2 on pms', '1 ging 1+', '0.5/5', '0/', 'max',\n",
       "       'mild plaque build up on upper carnassials', '3/', '3/4 tartar',\n",
       "       'not seen ', '1-2 tartart no gingivitis', '3/2', 'pd1, f1, m0',\n",
       "       'unable to examine', '>1/4', 'se notes', 'see notes', '.3',\n",
       "       '2 gingivitis', '0bar', '2a', '1b', '1a'], dtype=object)"
      ]
     },
     "execution_count": 15,
     "metadata": {},
     "output_type": "execute_result"
    }
   ],
   "source": [
    "dental[\"DentalGrade\"].unique()"
   ]
  },
  {
   "cell_type": "markdown",
   "metadata": {},
   "source": [
    "### Flat numbers"
   ]
  },
  {
   "cell_type": "code",
   "execution_count": 16,
   "metadata": {},
   "outputs": [
    {
     "name": "stdout",
     "output_type": "stream",
     "text": [
      "Numeric entries = 66097\n",
      "Numeric entries <= 5 = 66048\n",
      "[   nan   1.     2.     0.     3.    32.     4.     1.5    5.     0.5\n",
      " 160.    48.     2.5   40.    36.     0.25  80.    21.     0.3 ]\n"
     ]
    },
    {
     "data": {
      "image/png": "[encoded data removed]",
      "text/plain": [
       "<Figure size 432x288 with 1 Axes>"
      ]
     },
     "metadata": {
      "needs_background": "light"
     },
     "output_type": "display_data"
    }
   ],
   "source": [
    "dental_numeric = pd.to_numeric(dental['DentalGrade'], errors=\"coerce\")\n",
    "print(f\"Numeric entries = {dental_numeric.count()}\")\n",
    "print(f\"Numeric entries <= 5 = {dental_numeric[dental_numeric <= 5].count()}\")\n",
    "print(dental_numeric.unique())\n",
    "\n",
    "dental_numeric[dental_numeric <= 5].hist()\n",
    "plt.show()"
   ]
  },
  {
   "cell_type": "markdown",
   "metadata": {},
   "source": [
    "In above, `40.` is most likely `4`, `32` could be `3` or `2`, and `21` could be `2` or `1`. For `0.25`, `0.3`, `0.5`, `1.5`, `2.5` it's hard to tell."
   ]
  },
  {
   "cell_type": "markdown",
   "metadata": {},
   "source": [
    "### Baby teeth\n",
    "Not much numerical information here, so can likely safely set these to 0, as kittens are unlikely to have any plaque or gingivitis."
   ]
  },
  {
   "cell_type": "code",
   "execution_count": 17,
   "metadata": {},
   "outputs": [
    {
     "name": "stdout",
     "output_type": "stream",
     "text": [
      "1212\n",
      "['decid' 'deciduous' 'dec' 'retaiend deciduous canines' 'deciduous '\n",
      " 'deciduous teeth ' 'deciduous/gingivitis' 'juvinile' 'decidious'\n",
      " 'decisious' 'decusuous' 'teething' 'teething ' 'teething  still' 'baby'\n",
      " 'kitten' 'baby teeth ' 'baby teeth' 'deciduous falling out'\n",
      " 'deciduous dentition' '0 baby teeth' 'deciduous teeth' 'juv'\n",
      " 'kitten gingivitis' '0/5 deciduous']\n"
     ]
    }
   ],
   "source": [
    "dental_baby = dental.loc[dental[\"DentalGrade\"].str.contains('dec|baby|teething|kitten|juv', na=False), \"DentalGrade\"]\n",
    "\n",
    "print(dental_baby.count())\n",
    "print(dental_baby.unique())"
   ]
  },
  {
   "cell_type": "markdown",
   "metadata": {},
   "source": [
    "### Mentions of \"gingi\"\n",
    "Reasonable amount of numeric data here, could keep most with the assumption that values are on the standard 0-4 scale."
   ]
  },
  {
   "cell_type": "code",
   "execution_count": 18,
   "metadata": {},
   "outputs": [
    {
     "name": "stdout",
     "output_type": "stream",
     "text": [
      "115\n",
      "['nasty gingivitis. grade 2 plaque' '2 + +++ gingivitis' 'gingivitis 4+'\n",
      " '2/4 calculus pms + gingivitis' 'deciduous/gingivitis'\n",
      " 'lhs>rhs. gingivits.  grd 1 both sides' '0 but some gingivitis'\n",
      " '3-4 obvious gingival inflammation and plaque build up' '1 gingivitis'\n",
      " '2 gingivitis and tartar'\n",
      " '2/4 with gingivitis & some gum resorptin on both upper canines'\n",
      " 'kitten gingivitis' '1/4 severe gingivitis ' '1-2 tartart no gingivitis'\n",
      " '2 gingivitis']\n"
     ]
    }
   ],
   "source": [
    "dental_gingi = dental.loc[dental[\"DentalGrade\"].str.contains('gingi', na=False), \"DentalGrade\"]\n",
    "\n",
    "print(dental_gingi.count())\n",
    "print(dental_gingi.unique())"
   ]
  },
  {
   "cell_type": "markdown",
   "metadata": {},
   "source": [
    "### Number of entries listed as \"{}/4\""
   ]
  },
  {
   "cell_type": "code",
   "execution_count": 22,
   "metadata": {},
   "outputs": [
    {
     "name": "stdout",
     "output_type": "stream",
     "text": [
      "15173\n",
      "['2/4' '3/4' '1/4' '0/4' '0.5/4' '2/4 calculus pms + gingivitis'\n",
      " '1/4 calculus pms' '0/4 ' '0/4 dental exam nad missing lower i3 rhs'\n",
      " '1/4 mild tartar carnassials'\n",
      " '1/4 mild calculus on upper pms otherwise teeth good'\n",
      " '1/4 mild plaque upper canines' '1-2/4' '3/4-5' '3.5/4' '0-1/4' '2-3/4'\n",
      " '4/4' '1/4 ' '2/4 ' '0.25/4 ' '1.5/4' '0.25/4' '2.5/4' '<1/4'\n",
      " '2/4 over molars' '3/4-few teeth remain' '2/4 molars mostly' ' 0/4'\n",
      " '2/4+ tooth root abcess' '1-4/4' '1/4 pm4s only ' '3-4/4'\n",
      " '2/4 with gingivitis & some gum resorptin on both upper canines' '1+/4'\n",
      " '1/4 severe gingivitis ' 'late 2/4' '0/4 - many teeth missing' '3/4 '\n",
      " '1/4 ump4s' '1-3/4' '2/4 - suspect neck lesion 409' '3/4 tartar' '>1/4']\n"
     ]
    }
   ],
   "source": [
    "dental_outof4 = dental.loc[dental[\"DentalGrade\"].str.contains('/4', na=False), \"DentalGrade\"]\n",
    "\n",
    "print(dental_outof4.count())\n",
    "print(dental_outof4.unique())"
   ]
  },
  {
   "cell_type": "markdown",
   "metadata": {},
   "source": [
    "### Number of entries listed as \"{}/5\""
   ]
  },
  {
   "cell_type": "code",
   "execution_count": 24,
   "metadata": {},
   "outputs": [
    {
     "name": "stdout",
     "output_type": "stream",
     "text": [
      "2239\n",
      "['1/5' '1/5 - needs dental scaling and polishing' '1.5/5' '0/5' '2/5'\n",
      " '3/5' '2-3/5' '1-2/5' '4/5' '5/5' '1+/5' '0-1/5' '3.5/5' '2.5/5'\n",
      " '1/5 with carrie' '2/5 pm4 ' '0/5 deciduous' '0.5/5']\n"
     ]
    }
   ],
   "source": [
    "dental_outof5 = dental.loc[dental[\"DentalGrade\"].str.contains('/5', na=False), \"DentalGrade\"]\n",
    "\n",
    "print(dental_outof5.count())\n",
    "print(dental_outof5.unique())"
   ]
  },
  {
   "cell_type": "markdown",
   "metadata": {},
   "source": [
    "### Contains a \"/\""
   ]
  },
  {
   "cell_type": "code",
   "execution_count": 62,
   "metadata": {},
   "outputs": [
    {
     "name": "stdout",
     "output_type": "stream",
     "text": [
      "18915\n",
      "['2/2' '2/4' '3/4' '1/4' '0/4' '0.5/4' '0/1'\n",
      " '2/4 calculus pms + gingivitis' '1/5'\n",
      " '1/5 - needs dental scaling and polishing' '1/4 calculus pms' '0/4 '\n",
      " '0/4 dental exam nad missing lower i3 rhs' '1/4 mild tartar carnassials'\n",
      " '1/6' '1.5/5' '2/6' '3/6'\n",
      " '1/4 mild calculus on upper pms otherwise teeth good'\n",
      " '1/4 mild plaque upper canines' '4/6' '0/5' '2/5' '3/5' '6/6' '1-2/4'\n",
      " '3/4-5' '2-3/5' '1-2/5' '1/1' '0/0' '1/2' '3.5/4' '1/3' '0.5/3' '4/5'\n",
      " '5/9' '0-1/4' '2-3/4' '5/5' '2/3' '4/4' '1/4 ' '3/3' '2/4 '\n",
      " 'deciduous/gingivitis' '0.25/4 ' '1.5/4' '0.25/4' '2.5/4' '1/trace'\n",
      " '0-1/9' '<1/4' '1/0' 'g0/c1' 'g1/c0' 'c2/g1' 'c0/g0' 'c1/g1' 'c1/g2'\n",
      " 'c0/g1' '2/4 over molars' '3/4-few teeth remain' '2/4 molars mostly'\n",
      " '1+/5' '6/9' '2/1' 'c2/g2' 'c1/g3' '0-1/5' '0-i/iv' '0/iv' 'i-ii/iv'\n",
      " '0/3' '-12/3' '<1/3' '2-3/3' '2/2 ' '1/36' ' 0/4'\n",
      " '2/4+ tooth root abcess' '1-4/4' '1/4 pm4s only ' '2/9' '3-4/4'\n",
      " '2/4 with gingivitis & some gum resorptin on both upper canines' '1/9'\n",
      " '3.5/5' '2.5/5' '1/5 with carrie' '1+/4' '1/3 0/3' '2/5 pm4 '\n",
      " '1/4 severe gingivitis ' 'late 2/4' '2-3/' '0/4 - many teeth missing'\n",
      " '3/4 ' '1/4 ump4s' '0/5 deciduous' '1-3/4'\n",
      " '2/4 - suspect neck lesion 409' '0.5/5' '0/' '3/' '3/4 tartar' '3/2'\n",
      " '>1/4']\n"
     ]
    }
   ],
   "source": [
    "dental_outof = pd.DataFrame(dental.loc[dental[\"DentalGrade\"].str.contains('/', na=False), \"DentalGrade\"], columns=['DentalGrade'])\n",
    "\n",
    "print(dental_outof[\"DentalGrade\"].count())\n",
    "print(dental_outof[\"DentalGrade\"].unique())"
   ]
  },
  {
   "cell_type": "code",
   "execution_count": 66,
   "metadata": {},
   "outputs": [],
   "source": [
    "dental_outof_split = dental_outof[\"DentalGrade\"].str.split(pat = \"/\", expand=True)\n",
    "\n",
    "dental_outof_split.rename(columns={0: 'left', 1: 'right', 2: 'end'}, inplace=True)\n",
    "\n",
    "# print(dental_outof_split[\"left\"].unique())\n",
    "# print(dental_outof_split[\"right\"].unique())\n",
    "# print(dental_outof_split[\"end\"].unique())"
   ]
  },
  {
   "cell_type": "code",
   "execution_count": 69,
   "metadata": {},
   "outputs": [
    {
     "data": {
      "text/html": [
       "<div>\n",
       "<style scoped>\n",
       "    .dataframe tbody tr th:only-of-type {\n",
       "        vertical-align: middle;\n",
       "    }\n",
       "\n",
       "    .dataframe tbody tr th {\n",
       "        vertical-align: top;\n",
       "    }\n",
       "\n",
       "    .dataframe thead th {\n",
       "        text-align: right;\n",
       "    }\n",
       "</style>\n",
       "<table border=\"1\" class=\"dataframe\">\n",
       "  <thead>\n",
       "    <tr style=\"text-align: right;\">\n",
       "      <th></th>\n",
       "      <th>DentalGrade</th>\n",
       "      <th>left</th>\n",
       "      <th>right</th>\n",
       "      <th>end</th>\n",
       "    </tr>\n",
       "  </thead>\n",
       "  <tbody>\n",
       "    <tr>\n",
       "      <th>10693</th>\n",
       "      <td>2/2</td>\n",
       "      <td>2</td>\n",
       "      <td>2</td>\n",
       "      <td>None</td>\n",
       "    </tr>\n",
       "    <tr>\n",
       "      <th>10694</th>\n",
       "      <td>2/2</td>\n",
       "      <td>2</td>\n",
       "      <td>2</td>\n",
       "      <td>None</td>\n",
       "    </tr>\n",
       "    <tr>\n",
       "      <th>10695</th>\n",
       "      <td>2/2</td>\n",
       "      <td>2</td>\n",
       "      <td>2</td>\n",
       "      <td>None</td>\n",
       "    </tr>\n",
       "    <tr>\n",
       "      <th>10696</th>\n",
       "      <td>2/2</td>\n",
       "      <td>2</td>\n",
       "      <td>2</td>\n",
       "      <td>None</td>\n",
       "    </tr>\n",
       "    <tr>\n",
       "      <th>10877</th>\n",
       "      <td>2/4</td>\n",
       "      <td>2</td>\n",
       "      <td>4</td>\n",
       "      <td>None</td>\n",
       "    </tr>\n",
       "  </tbody>\n",
       "</table>\n",
       "</div>"
      ],
      "text/plain": [
       "      DentalGrade left right   end\n",
       "10693         2/2    2     2  None\n",
       "10694         2/2    2     2  None\n",
       "10695         2/2    2     2  None\n",
       "10696         2/2    2     2  None\n",
       "10877         2/4    2     4  None"
      ]
     },
     "execution_count": 69,
     "metadata": {},
     "output_type": "execute_result"
    }
   ],
   "source": [
    "dental_split = pd.concat([dental_outof, dental_outof_split], axis=1)\n",
    "dental_split.head()"
   ]
  },
  {
   "cell_type": "code",
   "execution_count": 70,
   "metadata": {},
   "outputs": [
    {
     "data": {
      "text/html": [
       "<div>\n",
       "<style scoped>\n",
       "    .dataframe tbody tr th:only-of-type {\n",
       "        vertical-align: middle;\n",
       "    }\n",
       "\n",
       "    .dataframe tbody tr th {\n",
       "        vertical-align: top;\n",
       "    }\n",
       "\n",
       "    .dataframe thead th {\n",
       "        text-align: right;\n",
       "    }\n",
       "</style>\n",
       "<table border=\"1\" class=\"dataframe\">\n",
       "  <thead>\n",
       "    <tr style=\"text-align: right;\">\n",
       "      <th></th>\n",
       "      <th>DentalGrade</th>\n",
       "      <th>left</th>\n",
       "      <th>right</th>\n",
       "      <th>end</th>\n",
       "    </tr>\n",
       "  </thead>\n",
       "  <tbody>\n",
       "    <tr>\n",
       "      <th>577300</th>\n",
       "      <td>1/3 0/3</td>\n",
       "      <td>1</td>\n",
       "      <td>3 0</td>\n",
       "      <td>3</td>\n",
       "    </tr>\n",
       "    <tr>\n",
       "      <th>577301</th>\n",
       "      <td>1/3 0/3</td>\n",
       "      <td>1</td>\n",
       "      <td>3 0</td>\n",
       "      <td>3</td>\n",
       "    </tr>\n",
       "    <tr>\n",
       "      <th>577302</th>\n",
       "      <td>1/3 0/3</td>\n",
       "      <td>1</td>\n",
       "      <td>3 0</td>\n",
       "      <td>3</td>\n",
       "    </tr>\n",
       "    <tr>\n",
       "      <th>577303</th>\n",
       "      <td>1/3 0/3</td>\n",
       "      <td>1</td>\n",
       "      <td>3 0</td>\n",
       "      <td>3</td>\n",
       "    </tr>\n",
       "    <tr>\n",
       "      <th>577304</th>\n",
       "      <td>1/3 0/3</td>\n",
       "      <td>1</td>\n",
       "      <td>3 0</td>\n",
       "      <td>3</td>\n",
       "    </tr>\n",
       "    <tr>\n",
       "      <th>577305</th>\n",
       "      <td>1/3 0/3</td>\n",
       "      <td>1</td>\n",
       "      <td>3 0</td>\n",
       "      <td>3</td>\n",
       "    </tr>\n",
       "    <tr>\n",
       "      <th>577306</th>\n",
       "      <td>1/3 0/3</td>\n",
       "      <td>1</td>\n",
       "      <td>3 0</td>\n",
       "      <td>3</td>\n",
       "    </tr>\n",
       "  </tbody>\n",
       "</table>\n",
       "</div>"
      ],
      "text/plain": [
       "       DentalGrade left right end\n",
       "577300     1/3 0/3    1   3 0   3\n",
       "577301     1/3 0/3    1   3 0   3\n",
       "577302     1/3 0/3    1   3 0   3\n",
       "577303     1/3 0/3    1   3 0   3\n",
       "577304     1/3 0/3    1   3 0   3\n",
       "577305     1/3 0/3    1   3 0   3\n",
       "577306     1/3 0/3    1   3 0   3"
      ]
     },
     "execution_count": 70,
     "metadata": {},
     "output_type": "execute_result"
    }
   ],
   "source": [
    "dental_split[dental_split['end'] == '3']"
   ]
  },
  {
   "cell_type": "markdown",
   "metadata": {},
   "source": [
    "### There's a dog in here!"
   ]
  },
  {
   "cell_type": "code",
   "execution_count": 19,
   "metadata": {},
   "outputs": [
    {
     "data": {
      "text/html": [
       "<div>\n",
       "<style scoped>\n",
       "    .dataframe tbody tr th:only-of-type {\n",
       "        vertical-align: middle;\n",
       "    }\n",
       "\n",
       "    .dataframe tbody tr th {\n",
       "        vertical-align: top;\n",
       "    }\n",
       "\n",
       "    .dataframe thead th {\n",
       "        text-align: right;\n",
       "    }\n",
       "</style>\n",
       "<table border=\"1\" class=\"dataframe\">\n",
       "  <thead>\n",
       "    <tr style=\"text-align: right;\">\n",
       "      <th></th>\n",
       "      <th>Patient Number</th>\n",
       "      <th>DentalGrade</th>\n",
       "    </tr>\n",
       "  </thead>\n",
       "  <tbody>\n",
       "    <tr>\n",
       "      <th>377637</th>\n",
       "      <td>8360360</td>\n",
       "      <td>puppy</td>\n",
       "    </tr>\n",
       "    <tr>\n",
       "      <th>377638</th>\n",
       "      <td>8360360</td>\n",
       "      <td>puppy</td>\n",
       "    </tr>\n",
       "    <tr>\n",
       "      <th>377639</th>\n",
       "      <td>8360360</td>\n",
       "      <td>puppy</td>\n",
       "    </tr>\n",
       "    <tr>\n",
       "      <th>377640</th>\n",
       "      <td>8360360</td>\n",
       "      <td>puppy</td>\n",
       "    </tr>\n",
       "    <tr>\n",
       "      <th>377641</th>\n",
       "      <td>8360360</td>\n",
       "      <td>puppy</td>\n",
       "    </tr>\n",
       "    <tr>\n",
       "      <th>377642</th>\n",
       "      <td>8360360</td>\n",
       "      <td>puppy</td>\n",
       "    </tr>\n",
       "    <tr>\n",
       "      <th>377643</th>\n",
       "      <td>8360360</td>\n",
       "      <td>puppy</td>\n",
       "    </tr>\n",
       "    <tr>\n",
       "      <th>377644</th>\n",
       "      <td>8360360</td>\n",
       "      <td>puppy</td>\n",
       "    </tr>\n",
       "    <tr>\n",
       "      <th>377645</th>\n",
       "      <td>8360360</td>\n",
       "      <td>puppy</td>\n",
       "    </tr>\n",
       "    <tr>\n",
       "      <th>377646</th>\n",
       "      <td>8360360</td>\n",
       "      <td>puppy</td>\n",
       "    </tr>\n",
       "    <tr>\n",
       "      <th>377647</th>\n",
       "      <td>8360360</td>\n",
       "      <td>puppy</td>\n",
       "    </tr>\n",
       "    <tr>\n",
       "      <th>377648</th>\n",
       "      <td>8360360</td>\n",
       "      <td>puppy</td>\n",
       "    </tr>\n",
       "  </tbody>\n",
       "</table>\n",
       "</div>"
      ],
      "text/plain": [
       "       Patient Number DentalGrade\n",
       "377637        8360360       puppy\n",
       "377638        8360360       puppy\n",
       "377639        8360360       puppy\n",
       "377640        8360360       puppy\n",
       "377641        8360360       puppy\n",
       "377642        8360360       puppy\n",
       "377643        8360360       puppy\n",
       "377644        8360360       puppy\n",
       "377645        8360360       puppy\n",
       "377646        8360360       puppy\n",
       "377647        8360360       puppy\n",
       "377648        8360360       puppy"
      ]
     },
     "execution_count": 19,
     "metadata": {},
     "output_type": "execute_result"
    }
   ],
   "source": [
    "dental[dental[\"DentalGrade\"].str.contains('puppy', na=False)]"
   ]
  },
  {
   "cell_type": "code",
   "execution_count": 20,
   "metadata": {},
   "outputs": [
    {
     "data": {
      "text/html": [
       "<div>\n",
       "<style scoped>\n",
       "    .dataframe tbody tr th:only-of-type {\n",
       "        vertical-align: middle;\n",
       "    }\n",
       "\n",
       "    .dataframe tbody tr th {\n",
       "        vertical-align: top;\n",
       "    }\n",
       "\n",
       "    .dataframe thead th {\n",
       "        text-align: right;\n",
       "    }\n",
       "</style>\n",
       "<table border=\"1\" class=\"dataframe\">\n",
       "  <thead>\n",
       "    <tr style=\"text-align: right;\">\n",
       "      <th></th>\n",
       "      <th>Patient Number</th>\n",
       "      <th>DentalGrade</th>\n",
       "    </tr>\n",
       "  </thead>\n",
       "  <tbody>\n",
       "    <tr>\n",
       "      <th>100836</th>\n",
       "      <td>7416676</td>\n",
       "      <td>5/9</td>\n",
       "    </tr>\n",
       "    <tr>\n",
       "      <th>100837</th>\n",
       "      <td>7416676</td>\n",
       "      <td>5/9</td>\n",
       "    </tr>\n",
       "    <tr>\n",
       "      <th>100838</th>\n",
       "      <td>7416676</td>\n",
       "      <td>5/9</td>\n",
       "    </tr>\n",
       "    <tr>\n",
       "      <th>511741</th>\n",
       "      <td>7744321</td>\n",
       "      <td>5/9</td>\n",
       "    </tr>\n",
       "    <tr>\n",
       "      <th>511742</th>\n",
       "      <td>7744321</td>\n",
       "      <td>5/9</td>\n",
       "    </tr>\n",
       "    <tr>\n",
       "      <th>511743</th>\n",
       "      <td>7744321</td>\n",
       "      <td>5/9</td>\n",
       "    </tr>\n",
       "  </tbody>\n",
       "</table>\n",
       "</div>"
      ],
      "text/plain": [
       "       Patient Number DentalGrade\n",
       "100836        7416676         5/9\n",
       "100837        7416676         5/9\n",
       "100838        7416676         5/9\n",
       "511741        7744321         5/9\n",
       "511742        7744321         5/9\n",
       "511743        7744321         5/9"
      ]
     },
     "execution_count": 20,
     "metadata": {},
     "output_type": "execute_result"
    }
   ],
   "source": [
    "dental[dental[\"DentalGrade\"] == '5/9']"
   ]
  }
 ],
 "metadata": {
  "kernelspec": {
   "display_name": "Python 3",
   "language": "python",
   "name": "python3"
  },
  "language_info": {
   "codemirror_mode": {
    "name": "ipython",
    "version": 3
   },
   "file_extension": ".py",
   "mimetype": "text/x-python",
   "name": "python",
   "nbconvert_exporter": "python",
   "pygments_lexer": "ipython3",
   "version": "3.7.3"
  }
 },
 "nbformat": 4,
 "nbformat_minor": 4
}
