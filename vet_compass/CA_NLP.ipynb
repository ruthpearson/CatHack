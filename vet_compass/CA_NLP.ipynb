{
 "cells": [
  {
   "cell_type": "markdown",
   "metadata": {},
   "source": [
    "TO DO (NLP HACK 2)\n",
    "\n",
    "- make everything lower case\n",
    "- try to pull out blood results"
   ]
  },
  {
   "cell_type": "markdown",
   "metadata": {},
   "source": [
    "IDEAS/ THINGS TO TRY (NLP hack 1)\n",
    "- clean away transaction records\n",
    "- look for renal food purchase\n",
    "- look in 'Assessment' for diagnosis\n",
    "- find lab values using regex and add to column\n",
    "- what do the most common lab patterns look like?\n",
    "- have a look at everything with renal/kidney (e.g. we don't want acute kidney disease)\n",
    "- look for CKD meds e.g. Semintra in Item Label, Item Name, Examination Text"
   ]
  },
  {
   "cell_type": "code",
   "execution_count": null,
   "metadata": {},
   "outputs": [],
   "source": [
    "import pandas as pd\n",
    "import numpy as np\n",
    "import re\n",
    "import matplotlib.pyplot as plt\n",
    "pd.set_option('display.max_rows', 500)\n",
    "pd.set_option('display.max_columns', 500)"
   ]
  },
  {
   "cell_type": "code",
   "execution_count": null,
   "metadata": {},
   "outputs": [],
   "source": [
    "columns = ['Database Name', 'Patient Number', 'Client Number', 'Consultation Number', 'Item Name', 'Units',\n",
    "           'Item Label', 'Clinic Code', 'Consulting Vet', 'Patient Desexed', 'Deceased Date',\n",
    "           'Visit Date', 'Consultation Date', 'Examination Text' ,'Patient Species', 'Patient Breed',\n",
    "           'Patient Colour', 'Patient Sex', 'Patient Date of Birth', 'Insured', 'weight', 'temperature',\n",
    "           'HeartRate', 'BodyScore', 'DentalGrade', 'RespRate', 'PainScore', 'BP', 'CRT', 'MMColour']"
   ]
  },
  {
   "cell_type": "code",
   "execution_count": null,
   "metadata": {},
   "outputs": [],
   "source": [
    "vetcompass_df = pd.read_csv(\"../Data/vet_compass/STR024A03 20190719 sample x10,000.csv\", header=None, names = columns)"
   ]
  },
  {
   "cell_type": "code",
   "execution_count": null,
   "metadata": {},
   "outputs": [],
   "source": [
    "vetcompass_df.head()"
   ]
  },
  {
   "cell_type": "code",
   "execution_count": null,
   "metadata": {},
   "outputs": [],
   "source": [
    "len(vetcompass_df['Patient Number'].unique())"
   ]
  },
  {
   "cell_type": "code",
   "execution_count": null,
   "metadata": {},
   "outputs": [],
   "source": [
    "len(vetcompass_df)"
   ]
  },
  {
   "cell_type": "markdown",
   "metadata": {},
   "source": [
    "# Examination Text Cleaning"
   ]
  },
  {
   "cell_type": "code",
   "execution_count": null,
   "metadata": {},
   "outputs": [],
   "source": [
    "# Start with Patient Number and Examination Text cols only\n",
    "examination_text = vetcompass_df[['Consultation Number', 'Consultation Date', 'Patient Number', 'Examination Text']]"
   ]
  },
  {
   "cell_type": "code",
   "execution_count": null,
   "metadata": {},
   "outputs": [],
   "source": [
    "# Drop rows with NaN as the examination text\n",
    "examination_text_clean = examination_text.copy()\n",
    "examination_text_clean = examination_text_clean.dropna(subset=['Examination Text'])\n",
    "\n",
    "print(len(examination_text_clean))\n",
    "print(len(examination_text_clean['Patient Number'].unique()))\n",
    "print(len(examination_text_clean['Consultation Date'].unique()))\n",
    "print(len(examination_text_clean['Consultation Number'].unique()))\n",
    "print(len(examination_text_clean['Examination Text'].unique()))"
   ]
  },
  {
   "cell_type": "code",
   "execution_count": null,
   "metadata": {},
   "outputs": [],
   "source": [
    "# Lower case in examination text\n",
    "examination_text_clean['Examination Text'] = examination_text_clean['Examination Text'].str.lower()"
   ]
  },
  {
   "cell_type": "code",
   "execution_count": null,
   "metadata": {},
   "outputs": [],
   "source": [
    "examination_text_clean['ExaminationTextLen'] = examination_text_clean['Examination Text'].str.len()"
   ]
  },
  {
   "cell_type": "code",
   "execution_count": null,
   "metadata": {},
   "outputs": [],
   "source": [
    "#examination_text_clean.sort_values(by=['ExaminationTextLen'], ascending=False)\n",
    "print(examination_text_clean['ExaminationTextLen'].min())\n",
    "print(examination_text_clean['ExaminationTextLen'].max())"
   ]
  },
  {
   "cell_type": "code",
   "execution_count": null,
   "metadata": {},
   "outputs": [],
   "source": [
    "examination_text_clean['ExaminationTextLen'].hist(bins=100, range=[0, 100])\n",
    "plt.show()"
   ]
  },
  {
   "cell_type": "code",
   "execution_count": null,
   "metadata": {},
   "outputs": [],
   "source": [
    "longform = examination_text_clean.loc[examination_text_clean['ExaminationTextLen'] == 22000]\n",
    "longform.iloc[0]"
   ]
  },
  {
   "cell_type": "markdown",
   "metadata": {},
   "source": [
    "## Investigate dropping duplicate rows for examination text\n",
    "\n",
    "Check duplicates accross all columns, as there may be cases where simple examination text gets repeated, but is for a different patient/consult date/consult number\n",
    "\n",
    "Might need to exclude consultation date, as this can vary by minutes"
   ]
  },
  {
   "cell_type": "code",
   "execution_count": null,
   "metadata": {},
   "outputs": [],
   "source": [
    "examination_text_dropduplicates = examination_text_clean[['Consultation Number', 'Patient Number', 'Examination Text']].drop_duplicates(keep='first')"
   ]
  },
  {
   "cell_type": "code",
   "execution_count": null,
   "metadata": {},
   "outputs": [],
   "source": [
    "examination_text_dropduplicates.head(n=10)"
   ]
  },
  {
   "cell_type": "code",
   "execution_count": null,
   "metadata": {},
   "outputs": [],
   "source": [
    "len(examination_text_dropduplicates['Consultation Number'].unique())"
   ]
  },
  {
   "cell_type": "code",
   "execution_count": null,
   "metadata": {},
   "outputs": [],
   "source": [
    "len(examination_text_dropduplicates)"
   ]
  },
  {
   "cell_type": "markdown",
   "metadata": {},
   "source": [
    "## Pull out different string patterns"
   ]
  },
  {
   "cell_type": "code",
   "execution_count": null,
   "metadata": {},
   "outputs": [],
   "source": [
    "len(examination_text_dropduplicates.loc[examination_text_dropduplicates['Examination Text'].str.contains('blood')])"
   ]
  },
  {
   "cell_type": "code",
   "execution_count": null,
   "metadata": {},
   "outputs": [],
   "source": [
    "examination_text_blood = examination_text_dropduplicates.loc[examination_text_dropduplicates['Examination Text'].str.contains('blood')]\n",
    "\n",
    "for i in range(20):\n",
    "    print(examination_text_blood.iloc[i]['Examination Text'])"
   ]
  },
  {
   "cell_type": "code",
   "execution_count": null,
   "metadata": {},
   "outputs": [],
   "source": [
    "examination_text_vetnostics = examination_text_dropduplicates.loc[examination_text_dropduplicates['Examination Text'].str.contains('vetnostics')]\n",
    "\n",
    "print(len(examination_text_vetnostics['Examination Text']))\n",
    "\n",
    "for i in range(3):\n",
    "    print(examination_text_vetnostics.iloc[i]['Examination Text'])"
   ]
  },
  {
   "cell_type": "markdown",
   "metadata": {},
   "source": [
    "# up to 2 words followed by a colon"
   ]
  },
  {
   "cell_type": "code",
   "execution_count": null,
   "metadata": {},
   "outputs": [],
   "source": [
    "def get_patterns(df, pattern):\n",
    "    note_captions_lists = [re.findall(string=text, pattern=pattern) for text in df['Examination Text'] if isinstance(text, str)]\n",
    "    note_captions = [text for text_list in note_captions_lists for text in text_list]\n",
    "    note_captions_set = set(note_captions)\n",
    "    return note_captions_set"
   ]
  },
  {
   "cell_type": "code",
   "execution_count": null,
   "metadata": {},
   "outputs": [],
   "source": [
    "get_patterns(vetcompass_df, r\"(?:[A-Z][a-z]+ )?[A-Z][a-z]+\\:\")"
   ]
  },
  {
   "cell_type": "code",
   "execution_count": null,
   "metadata": {},
   "outputs": [],
   "source": [
    "len(list(get_patterns(vetcompass_df, r\"(?:[A-Z][a-z]+ )?[A-Z][a-z]+\\:\")))"
   ]
  },
  {
   "cell_type": "markdown",
   "metadata": {},
   "source": [
    "# 1 word followed by a colon"
   ]
  },
  {
   "cell_type": "code",
   "execution_count": null,
   "metadata": {},
   "outputs": [],
   "source": [
    "len(list(get_patterns(vetcompass_df, r\"[A-Z][a-z]+\\:\")))"
   ]
  },
  {
   "cell_type": "code",
   "execution_count": null,
   "metadata": {},
   "outputs": [],
   "source": [
    "get_patterns(vetcompass_df, r\"[A-Z][a-z]+\\:\")"
   ]
  },
  {
   "cell_type": "code",
   "execution_count": null,
   "metadata": {},
   "outputs": [],
   "source": [
    "#sorted(get_patterns(vetcompass_df, r\"[A-Z][a-z]+\\:\"))"
   ]
  },
  {
   "cell_type": "code",
   "execution_count": null,
   "metadata": {},
   "outputs": [],
   "source": [
    "vetcompass_df_wellbehaved = vetcompass_df[vetcompass_df['Examination Text'].apply(lambda text: bool(re.search(string=text, pattern='Appointment Notes\\:')) if isinstance(text, str) else False)]"
   ]
  },
  {
   "cell_type": "code",
   "execution_count": null,
   "metadata": {},
   "outputs": [],
   "source": [
    "vetcompass_df_wellbehaved['Examination Text']"
   ]
  },
  {
   "cell_type": "code",
   "execution_count": null,
   "metadata": {},
   "outputs": [],
   "source": [
    "vetcompass_df_wellbehaved.shape"
   ]
  },
  {
   "cell_type": "code",
   "execution_count": null,
   "metadata": {},
   "outputs": [],
   "source": [
    "vetcompass_df.shape"
   ]
  },
  {
   "cell_type": "code",
   "execution_count": null,
   "metadata": {},
   "outputs": [],
   "source": [
    "print('about 1/3 are well behaved- they have Appointment Notes: string in Examination Text')"
   ]
  },
  {
   "cell_type": "code",
   "execution_count": null,
   "metadata": {},
   "outputs": [],
   "source": [
    "vetcompass_df[vetcompass_df['Examination Text'].notnull()].shape"
   ]
  },
  {
   "cell_type": "code",
   "execution_count": null,
   "metadata": {},
   "outputs": [],
   "source": [
    "single_word_patterns = get_patterns(vetcompass_df_wellbehaved, r\"[A-Z][a-z]+\\:\")"
   ]
  },
  {
   "cell_type": "code",
   "execution_count": null,
   "metadata": {},
   "outputs": [],
   "source": [
    "single_word_patterns"
   ]
  },
  {
   "cell_type": "code",
   "execution_count": null,
   "metadata": {},
   "outputs": [],
   "source": [
    "vetcompass_df_wellbehaved['Examination Text'][vetcompass_df_wellbehaved['Examination Text'].str.contains('Jazzy:')].iloc[0]"
   ]
  },
  {
   "cell_type": "code",
   "execution_count": null,
   "metadata": {},
   "outputs": [],
   "source": [
    "vetcompass_df_wellbehaved['Examination Text'].iloc[5]"
   ]
  },
  {
   "cell_type": "code",
   "execution_count": null,
   "metadata": {},
   "outputs": [],
   "source": [
    "single_word_patterns_with_count = []\n",
    "for word_pattern in single_word_patterns:\n",
    "    single_word_patterns_with_count.append((word_pattern, vetcompass_df_wellbehaved['Examination Text'].str.contains(word_pattern).sum()))"
   ]
  },
  {
   "cell_type": "code",
   "execution_count": null,
   "metadata": {},
   "outputs": [],
   "source": [
    "sorted(single_word_patterns_with_count, key=lambda pair: pair[1], reverse=True)"
   ]
  },
  {
   "cell_type": "markdown",
   "metadata": {},
   "source": [
    "# look at examination text which contain 'Laboratory' in well behaved/other"
   ]
  },
  {
   "cell_type": "code",
   "execution_count": null,
   "metadata": {},
   "outputs": [],
   "source": [
    "get_patterns(vetcompass_df_wellbehaved, r\"Laboratory:\")"
   ]
  },
  {
   "cell_type": "code",
   "execution_count": null,
   "metadata": {},
   "outputs": [],
   "source": [
    "# df which has well behaved with 'Laboratory:'\n",
    "# :/ slash is escape key which means use colon as colon\n",
    "wellbehaved_Laboratory = vetcompass_df_wellbehaved[vetcompass_df_wellbehaved['Examination Text'].apply(lambda text: bool(re.search(string=text, pattern='Laboratory\\:')) if isinstance(text, str) else False)]"
   ]
  },
  {
   "cell_type": "code",
   "execution_count": null,
   "metadata": {},
   "outputs": [],
   "source": [
    "len(wellbehaved_Laboratory)"
   ]
  },
  {
   "cell_type": "code",
   "execution_count": null,
   "metadata": {},
   "outputs": [],
   "source": [
    "wellbehaved_Laboratory['Examination Text']"
   ]
  },
  {
   "cell_type": "code",
   "execution_count": null,
   "metadata": {},
   "outputs": [],
   "source": [
    "# how do we see text after 'Laboratory:'?"
   ]
  },
  {
   "cell_type": "code",
   "execution_count": null,
   "metadata": {},
   "outputs": [],
   "source": [
    "get_patterns(wellbehaved_Laboratory, \"Laboratory\\:.{1,100}\")"
   ]
  },
  {
   "cell_type": "code",
   "execution_count": null,
   "metadata": {},
   "outputs": [],
   "source": [
    "get_patterns(wellbehaved_Laboratory, \"Bloods\\:.{1,150}\")"
   ]
  },
  {
   "cell_type": "code",
   "execution_count": null,
   "metadata": {},
   "outputs": [],
   "source": [
    "get_patterns(wellbehaved_Laboratory, \"Assessment\\:.{1,150}\")"
   ]
  },
  {
   "cell_type": "code",
   "execution_count": null,
   "metadata": {},
   "outputs": [],
   "source": [
    "# look at all data"
   ]
  },
  {
   "cell_type": "code",
   "execution_count": null,
   "metadata": {},
   "outputs": [],
   "source": [
    "len(get_patterns(vetcompass_df, \"cre|CRE.{1,150}\"))"
   ]
  },
  {
   "cell_type": "code",
   "execution_count": null,
   "metadata": {},
   "outputs": [],
   "source": [
    "get_patterns(vetcompass_df, \"cre|CRE.{1,150}\")"
   ]
  },
  {
   "cell_type": "code",
   "execution_count": null,
   "metadata": {},
   "outputs": [],
   "source": [
    "get_patterns(vetcompass_df, \"CKD|ckd|Kidney|kidney|renal.{1,150}\")"
   ]
  },
  {
   "cell_type": "code",
   "execution_count": null,
   "metadata": {},
   "outputs": [],
   "source": [
    "len(get_patterns(vetcompass_df, \"CKD|ckd|Kidney|kidney|renal\"))"
   ]
  },
  {
   "cell_type": "code",
   "execution_count": null,
   "metadata": {},
   "outputs": [],
   "source": [
    "len(get_patterns(vetcompass_df, \"CKD|ckd|Kidney|kidney|renal.{1,150}\"))"
   ]
  },
  {
   "cell_type": "code",
   "execution_count": null,
   "metadata": {},
   "outputs": [],
   "source": [
    "len(get_patterns(vetcompass_df, \"CKD.{1,150}|ckd.{1,150}|Kidney.{1,150}|kidney.{1,150}|renal.{1,150}|RENAL.{1,150}\"))"
   ]
  },
  {
   "cell_type": "code",
   "execution_count": null,
   "metadata": {},
   "outputs": [],
   "source": [
    "# kidney related records"
   ]
  },
  {
   "cell_type": "code",
   "execution_count": null,
   "metadata": {},
   "outputs": [],
   "source": [
    "kidney_related_df = vetcompass_df[vetcompass_df['Examination Text'].apply(lambda text: bool(re.search(string=text, pattern='CKD|ckd|Kidney|kidney|renal')) if isinstance(text, str) else False)]"
   ]
  },
  {
   "cell_type": "code",
   "execution_count": null,
   "metadata": {},
   "outputs": [],
   "source": [
    "len(kidney_related_df)"
   ]
  },
  {
   "cell_type": "code",
   "execution_count": null,
   "metadata": {},
   "outputs": [],
   "source": [
    "kidney_related_patients = kidney_related_df['Patient Number'].unique()"
   ]
  },
  {
   "cell_type": "code",
   "execution_count": null,
   "metadata": {},
   "outputs": [],
   "source": [
    "len(kidney_related_df['Patient Number'].unique())"
   ]
  },
  {
   "cell_type": "code",
   "execution_count": null,
   "metadata": {},
   "outputs": [],
   "source": [
    "list(kidney_related_patients)"
   ]
  },
  {
   "cell_type": "code",
   "execution_count": null,
   "metadata": {},
   "outputs": [],
   "source": [
    "chronic_kidney_related_df = kidney_related_df[kidney_related_df['Examination Text'].apply(lambda text: bool(re.search(string=text, pattern='chronic|CHRONIC|Chronic|CKD|ckd|Ckd')) if isinstance(text, str) else False)]"
   ]
  },
  {
   "cell_type": "code",
   "execution_count": null,
   "metadata": {},
   "outputs": [],
   "source": [
    "len(chronic_kidney_related_df)"
   ]
  },
  {
   "cell_type": "code",
   "execution_count": null,
   "metadata": {},
   "outputs": [],
   "source": [
    "len(chronic_kidney_related_df['Patient Number'].unique())"
   ]
  },
  {
   "cell_type": "code",
   "execution_count": null,
   "metadata": {},
   "outputs": [],
   "source": [
    "chronic_kidney_related_df.iloc[0]['Examination Text']"
   ]
  },
  {
   "cell_type": "markdown",
   "metadata": {},
   "source": [
    "# try looking for k/d\n",
    "Look in Examination Text, Item Name, Item Label (hardly any here)"
   ]
  },
  {
   "cell_type": "code",
   "execution_count": null,
   "metadata": {},
   "outputs": [],
   "source": []
  },
  {
   "cell_type": "code",
   "execution_count": null,
   "metadata": {},
   "outputs": [],
   "source": [
    "find_kd = vetcompass_df[vetcompass_df['Item Name'].apply(lambda text: bool(re.search(string=text, pattern='k/d|K/D|K/d')) if isinstance(text, str) else False)]"
   ]
  },
  {
   "cell_type": "code",
   "execution_count": null,
   "metadata": {},
   "outputs": [],
   "source": [
    "len(find_kd)"
   ]
  },
  {
   "cell_type": "code",
   "execution_count": null,
   "metadata": {},
   "outputs": [],
   "source": [
    "len(find_kd['Patient Number'].unique())"
   ]
  },
  {
   "cell_type": "code",
   "execution_count": null,
   "metadata": {},
   "outputs": [],
   "source": [
    "find_kd.iloc[100]['Item Name']"
   ]
  },
  {
   "cell_type": "code",
   "execution_count": null,
   "metadata": {},
   "outputs": [],
   "source": [
    "chronic_related_df['Examination Text']"
   ]
  },
  {
   "cell_type": "code",
   "execution_count": null,
   "metadata": {},
   "outputs": [],
   "source": [
    "chronic_related_df = vetcompass_df[vetcompass_df['Examination Text'].apply(lambda text: bool(re.search(string=text, pattern='chronic|CHRONIC|Chronic')) if isinstance(text, str) else False)]"
   ]
  },
  {
   "cell_type": "code",
   "execution_count": null,
   "metadata": {},
   "outputs": [],
   "source": [
    "len(chronic_related_df)"
   ]
  },
  {
   "cell_type": "code",
   "execution_count": null,
   "metadata": {},
   "outputs": [],
   "source": [
    "get_patterns(vetcompass_df, \"chronic.{1,150}\")"
   ]
  },
  {
   "cell_type": "code",
   "execution_count": null,
   "metadata": {},
   "outputs": [],
   "source": [
    "get_patterns(vetcompass_df, \"semintra.{1,150}\")"
   ]
  },
  {
   "cell_type": "code",
   "execution_count": null,
   "metadata": {},
   "outputs": [],
   "source": [
    "vetcompass_df[vetcompass_df['Examination Text'].apply(lambda text: bool(re.search(string=text, pattern='semintra')) if isinstance(text, str) else False)]"
   ]
  },
  {
   "cell_type": "code",
   "execution_count": null,
   "metadata": {},
   "outputs": [],
   "source": [
    "vetcompass_df[vetcompass_df['Item Name'].apply(lambda text: bool(re.search(string=text, pattern='Semintra')) if isinstance(text, str) else False)]"
   ]
  },
  {
   "cell_type": "code",
   "execution_count": null,
   "metadata": {},
   "outputs": [],
   "source": [
    "vetcompass_df[vetcompass_df['Item Label'].apply(lambda text: bool(re.search(string=text, pattern='Semintra')) if isinstance(text, str) else False)]"
   ]
  },
  {
   "cell_type": "markdown",
   "metadata": {},
   "source": [
    "# How do we pull out individual blood values?"
   ]
  },
  {
   "cell_type": "code",
   "execution_count": null,
   "metadata": {},
   "outputs": [],
   "source": []
  }
 ],
 "metadata": {
  "kernelspec": {
   "display_name": "Python 3",
   "language": "python",
   "name": "python3"
  },
  "language_info": {
   "codemirror_mode": {
    "name": "ipython",
    "version": 3
   },
   "file_extension": ".py",
   "mimetype": "text/x-python",
   "name": "python",
   "nbconvert_exporter": "python",
   "pygments_lexer": "ipython3",
   "version": "3.7.3"
  }
 },
 "nbformat": 4,
 "nbformat_minor": 4
}
