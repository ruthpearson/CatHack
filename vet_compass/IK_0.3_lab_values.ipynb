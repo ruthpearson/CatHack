{
 "cells": [
  {
   "cell_type": "code",
   "execution_count": 3,
   "metadata": {},
   "outputs": [],
   "source": [
    "import pandas as pd\n",
    "import numpy as np\n",
    "import re"
   ]
  },
  {
   "cell_type": "code",
   "execution_count": 4,
   "metadata": {},
   "outputs": [],
   "source": [
    "columns = ['DatabaseName', 'PatientNumber', 'ClientNumber', 'ConsultationNumber', 'ItemName', 'Units',\n",
    "           'ItemLabel', 'ClinicCode', 'ConsultingVet', 'PatientDesexed', 'DeceasedDate',\n",
    "           'VisitDate', 'ConsultationDate', 'ExaminationText' ,'PatientSpecies', 'PatientBreed',\n",
    "           'PatientColour', 'PatientSex', 'PatientDateOfBirth', 'Insured', 'weight', 'temperature',\n",
    "           'HeartRate', 'BodyScore', 'DentalGrade', 'RespRate', 'PainScore', 'BP', 'CRT', 'MMColour']"
   ]
  },
  {
   "cell_type": "code",
   "execution_count": 5,
   "metadata": {},
   "outputs": [
    {
     "name": "stderr",
     "output_type": "stream",
     "text": [
      "/Library/Frameworks/Python.framework/Versions/3.6/lib/python3.6/site-packages/IPython/core/interactiveshell.py:2728: DtypeWarning: Columns (1,2,3,19,20,21,22,25,27) have mixed types. Specify dtype option on import or set low_memory=False.\n",
      "  interactivity=interactivity, compiler=compiler, result=result)\n"
     ]
    }
   ],
   "source": [
    "vetcompass_df = pd.read_csv(\"../Data/vet_compass/STR024A03 20190719 sample x10,000.csv\", header=None, names = columns)"
   ]
  },
  {
   "cell_type": "markdown",
   "metadata": {},
   "source": [
    "### make everything lowercase"
   ]
  },
  {
   "cell_type": "code",
   "execution_count": 506,
   "metadata": {},
   "outputs": [],
   "source": [
    "# vetcompass_df['ExaminationText'] = vetcompass_df['ExaminationText'].str.lower()"
   ]
  },
  {
   "cell_type": "markdown",
   "metadata": {},
   "source": [
    "### functions to create regex and add columns "
   ]
  },
  {
   "cell_type": "code",
   "execution_count": 6,
   "metadata": {},
   "outputs": [],
   "source": [
    "def make_regex(values):\n",
    "    return f'({values})[\\s\\:\\=\\-]*(\\d*\\.?\\/?\\d*)'\n",
    "# for protein\\protien\\protene\\protine\\... we need to look for +s instead of digits. like + prot... +\n",
    "\n",
    "def add_column(df, values, colname):\n",
    "    df[colname] = df.ExaminationText.str.extract(make_regex(values), expand=True, flags=re.IGNORECASE)[1]\n",
    "    return df"
   ]
  },
  {
   "cell_type": "markdown",
   "metadata": {},
   "source": [
    "### function to find patters (from nushki)"
   ]
  },
  {
   "cell_type": "code",
   "execution_count": 7,
   "metadata": {},
   "outputs": [],
   "source": [
    "def get_patterns(df, pattern):\n",
    "    note_captions_lists = [re.findall(string=text, pattern=pattern) for text in df['ExaminationText'] if isinstance(text, str)]\n",
    "    note_captions = [text for text_list in note_captions_lists for text in text_list]\n",
    "    note_captions_set = set(note_captions)\n",
    "    return note_captions_set"
   ]
  },
  {
   "cell_type": "markdown",
   "metadata": {},
   "source": [
    "### find strings that precede values to find possible lab value keys (maybe pointless)"
   ]
  },
  {
   "cell_type": "code",
   "execution_count": 7,
   "metadata": {
    "collapsed": true,
    "jupyter": {
     "outputs_hidden": true
    }
   },
   "outputs": [
    {
     "ename": "KeyboardInterrupt",
     "evalue": "",
     "output_type": "error",
     "traceback": [
      "\u001b[0;31m---------------------------------------------------------------------------\u001b[0m",
      "\u001b[0;31mKeyboardInterrupt\u001b[0m                         Traceback (most recent call last)",
      "\u001b[0;32m<ipython-input-7-d53771bbbe10>\u001b[0m in \u001b[0;36m<module>\u001b[0;34m()\u001b[0m\n\u001b[0;32m----> 1\u001b[0;31m \u001b[0mpossible_keys\u001b[0m \u001b[0;34m=\u001b[0m \u001b[0mset\u001b[0m\u001b[0;34m(\u001b[0m\u001b[0mget_patterns\u001b[0m\u001b[0;34m(\u001b[0m\u001b[0mvetcompass_df\u001b[0m\u001b[0;34m,\u001b[0m \u001b[0mpattern\u001b[0m\u001b[0;34m=\u001b[0m\u001b[0;34m\"(.{0,4})[\\s\\:\\=\\(\\-]*\\d*\\.?\\/?\\d*\"\u001b[0m\u001b[0;34m)\u001b[0m\u001b[0;34m)\u001b[0m\u001b[0;34m\u001b[0m\u001b[0m\n\u001b[0m",
      "\u001b[0;32m<ipython-input-6-f9e083fd2110>\u001b[0m in \u001b[0;36mget_patterns\u001b[0;34m(df, pattern)\u001b[0m\n\u001b[1;32m      1\u001b[0m \u001b[0;32mdef\u001b[0m \u001b[0mget_patterns\u001b[0m\u001b[0;34m(\u001b[0m\u001b[0mdf\u001b[0m\u001b[0;34m,\u001b[0m \u001b[0mpattern\u001b[0m\u001b[0;34m)\u001b[0m\u001b[0;34m:\u001b[0m\u001b[0;34m\u001b[0m\u001b[0m\n\u001b[0;32m----> 2\u001b[0;31m     \u001b[0mnote_captions_lists\u001b[0m \u001b[0;34m=\u001b[0m \u001b[0;34m[\u001b[0m\u001b[0mre\u001b[0m\u001b[0;34m.\u001b[0m\u001b[0mfindall\u001b[0m\u001b[0;34m(\u001b[0m\u001b[0mstring\u001b[0m\u001b[0;34m=\u001b[0m\u001b[0mtext\u001b[0m\u001b[0;34m,\u001b[0m \u001b[0mpattern\u001b[0m\u001b[0;34m=\u001b[0m\u001b[0mpattern\u001b[0m\u001b[0;34m)\u001b[0m \u001b[0;32mfor\u001b[0m \u001b[0mtext\u001b[0m \u001b[0;32min\u001b[0m \u001b[0mdf\u001b[0m\u001b[0;34m[\u001b[0m\u001b[0;34m'ExaminationText'\u001b[0m\u001b[0;34m]\u001b[0m \u001b[0;32mif\u001b[0m \u001b[0misinstance\u001b[0m\u001b[0;34m(\u001b[0m\u001b[0mtext\u001b[0m\u001b[0;34m,\u001b[0m \u001b[0mstr\u001b[0m\u001b[0;34m)\u001b[0m\u001b[0;34m]\u001b[0m\u001b[0;34m\u001b[0m\u001b[0m\n\u001b[0m\u001b[1;32m      3\u001b[0m     \u001b[0mnote_captions\u001b[0m \u001b[0;34m=\u001b[0m \u001b[0;34m[\u001b[0m\u001b[0mtext\u001b[0m \u001b[0;32mfor\u001b[0m \u001b[0mtext_list\u001b[0m \u001b[0;32min\u001b[0m \u001b[0mnote_captions_lists\u001b[0m \u001b[0;32mfor\u001b[0m \u001b[0mtext\u001b[0m \u001b[0;32min\u001b[0m \u001b[0mtext_list\u001b[0m\u001b[0;34m]\u001b[0m\u001b[0;34m\u001b[0m\u001b[0m\n\u001b[1;32m      4\u001b[0m     \u001b[0mnote_captions_set\u001b[0m \u001b[0;34m=\u001b[0m \u001b[0mset\u001b[0m\u001b[0;34m(\u001b[0m\u001b[0mnote_captions\u001b[0m\u001b[0;34m)\u001b[0m\u001b[0;34m\u001b[0m\u001b[0m\n\u001b[1;32m      5\u001b[0m     \u001b[0;32mreturn\u001b[0m \u001b[0mnote_captions_set\u001b[0m\u001b[0;34m\u001b[0m\u001b[0m\n",
      "\u001b[0;32m<ipython-input-6-f9e083fd2110>\u001b[0m in \u001b[0;36m<listcomp>\u001b[0;34m(.0)\u001b[0m\n\u001b[1;32m      1\u001b[0m \u001b[0;32mdef\u001b[0m \u001b[0mget_patterns\u001b[0m\u001b[0;34m(\u001b[0m\u001b[0mdf\u001b[0m\u001b[0;34m,\u001b[0m \u001b[0mpattern\u001b[0m\u001b[0;34m)\u001b[0m\u001b[0;34m:\u001b[0m\u001b[0;34m\u001b[0m\u001b[0m\n\u001b[0;32m----> 2\u001b[0;31m     \u001b[0mnote_captions_lists\u001b[0m \u001b[0;34m=\u001b[0m \u001b[0;34m[\u001b[0m\u001b[0mre\u001b[0m\u001b[0;34m.\u001b[0m\u001b[0mfindall\u001b[0m\u001b[0;34m(\u001b[0m\u001b[0mstring\u001b[0m\u001b[0;34m=\u001b[0m\u001b[0mtext\u001b[0m\u001b[0;34m,\u001b[0m \u001b[0mpattern\u001b[0m\u001b[0;34m=\u001b[0m\u001b[0mpattern\u001b[0m\u001b[0;34m)\u001b[0m \u001b[0;32mfor\u001b[0m \u001b[0mtext\u001b[0m \u001b[0;32min\u001b[0m \u001b[0mdf\u001b[0m\u001b[0;34m[\u001b[0m\u001b[0;34m'ExaminationText'\u001b[0m\u001b[0;34m]\u001b[0m \u001b[0;32mif\u001b[0m \u001b[0misinstance\u001b[0m\u001b[0;34m(\u001b[0m\u001b[0mtext\u001b[0m\u001b[0;34m,\u001b[0m \u001b[0mstr\u001b[0m\u001b[0;34m)\u001b[0m\u001b[0;34m]\u001b[0m\u001b[0;34m\u001b[0m\u001b[0m\n\u001b[0m\u001b[1;32m      3\u001b[0m     \u001b[0mnote_captions\u001b[0m \u001b[0;34m=\u001b[0m \u001b[0;34m[\u001b[0m\u001b[0mtext\u001b[0m \u001b[0;32mfor\u001b[0m \u001b[0mtext_list\u001b[0m \u001b[0;32min\u001b[0m \u001b[0mnote_captions_lists\u001b[0m \u001b[0;32mfor\u001b[0m \u001b[0mtext\u001b[0m \u001b[0;32min\u001b[0m \u001b[0mtext_list\u001b[0m\u001b[0;34m]\u001b[0m\u001b[0;34m\u001b[0m\u001b[0m\n\u001b[1;32m      4\u001b[0m     \u001b[0mnote_captions_set\u001b[0m \u001b[0;34m=\u001b[0m \u001b[0mset\u001b[0m\u001b[0;34m(\u001b[0m\u001b[0mnote_captions\u001b[0m\u001b[0;34m)\u001b[0m\u001b[0;34m\u001b[0m\u001b[0m\n\u001b[1;32m      5\u001b[0m     \u001b[0;32mreturn\u001b[0m \u001b[0mnote_captions_set\u001b[0m\u001b[0;34m\u001b[0m\u001b[0m\n",
      "\u001b[0;32m/Library/Frameworks/Python.framework/Versions/3.6/lib/python3.6/re.py\u001b[0m in \u001b[0;36mfindall\u001b[0;34m(pattern, string, flags)\u001b[0m\n\u001b[1;32m    220\u001b[0m \u001b[0;34m\u001b[0m\u001b[0m\n\u001b[1;32m    221\u001b[0m     Empty matches are included in the result.\"\"\"\n\u001b[0;32m--> 222\u001b[0;31m     \u001b[0;32mreturn\u001b[0m \u001b[0m_compile\u001b[0m\u001b[0;34m(\u001b[0m\u001b[0mpattern\u001b[0m\u001b[0;34m,\u001b[0m \u001b[0mflags\u001b[0m\u001b[0;34m)\u001b[0m\u001b[0;34m.\u001b[0m\u001b[0mfindall\u001b[0m\u001b[0;34m(\u001b[0m\u001b[0mstring\u001b[0m\u001b[0;34m)\u001b[0m\u001b[0;34m\u001b[0m\u001b[0m\n\u001b[0m\u001b[1;32m    223\u001b[0m \u001b[0;34m\u001b[0m\u001b[0m\n\u001b[1;32m    224\u001b[0m \u001b[0;32mdef\u001b[0m \u001b[0mfinditer\u001b[0m\u001b[0;34m(\u001b[0m\u001b[0mpattern\u001b[0m\u001b[0;34m,\u001b[0m \u001b[0mstring\u001b[0m\u001b[0;34m,\u001b[0m \u001b[0mflags\u001b[0m\u001b[0;34m=\u001b[0m\u001b[0;36m0\u001b[0m\u001b[0;34m)\u001b[0m\u001b[0;34m:\u001b[0m\u001b[0;34m\u001b[0m\u001b[0m\n",
      "\u001b[0;32m/Library/Frameworks/Python.framework/Versions/3.6/lib/python3.6/re.py\u001b[0m in \u001b[0;36m_compile\u001b[0;34m(pattern, flags)\u001b[0m\n\u001b[1;32m    287\u001b[0m     \u001b[0;31m# internal: compile pattern\u001b[0m\u001b[0;34m\u001b[0m\u001b[0;34m\u001b[0m\u001b[0m\n\u001b[1;32m    288\u001b[0m     \u001b[0;32mtry\u001b[0m\u001b[0;34m:\u001b[0m\u001b[0;34m\u001b[0m\u001b[0m\n\u001b[0;32m--> 289\u001b[0;31m         \u001b[0mp\u001b[0m\u001b[0;34m,\u001b[0m \u001b[0mloc\u001b[0m \u001b[0;34m=\u001b[0m \u001b[0m_cache\u001b[0m\u001b[0;34m[\u001b[0m\u001b[0mtype\u001b[0m\u001b[0;34m(\u001b[0m\u001b[0mpattern\u001b[0m\u001b[0;34m)\u001b[0m\u001b[0;34m,\u001b[0m \u001b[0mpattern\u001b[0m\u001b[0;34m,\u001b[0m \u001b[0mflags\u001b[0m\u001b[0;34m]\u001b[0m\u001b[0;34m\u001b[0m\u001b[0m\n\u001b[0m\u001b[1;32m    290\u001b[0m         \u001b[0;32mif\u001b[0m \u001b[0mloc\u001b[0m \u001b[0;32mis\u001b[0m \u001b[0;32mNone\u001b[0m \u001b[0;32mor\u001b[0m \u001b[0mloc\u001b[0m \u001b[0;34m==\u001b[0m \u001b[0m_locale\u001b[0m\u001b[0;34m.\u001b[0m\u001b[0msetlocale\u001b[0m\u001b[0;34m(\u001b[0m\u001b[0m_locale\u001b[0m\u001b[0;34m.\u001b[0m\u001b[0mLC_CTYPE\u001b[0m\u001b[0;34m)\u001b[0m\u001b[0;34m:\u001b[0m\u001b[0;34m\u001b[0m\u001b[0m\n\u001b[1;32m    291\u001b[0m             \u001b[0;32mreturn\u001b[0m \u001b[0mp\u001b[0m\u001b[0;34m\u001b[0m\u001b[0m\n",
      "\u001b[0;31mKeyboardInterrupt\u001b[0m: "
     ]
    }
   ],
   "source": [
    "possible_keys = set(get_patterns(vetcompass_df, pattern=\"(.{0,4})[\\s\\:\\=\\(\\-]*\\d*\\.?\\/?\\d*\"))"
   ]
  },
  {
   "cell_type": "code",
   "execution_count": null,
   "metadata": {},
   "outputs": [],
   "source": [
    "ending_in_colon = [re.findall(string=text, pattern='.{0,3}:') for text in possible_keys]"
   ]
  },
  {
   "cell_type": "code",
   "execution_count": null,
   "metadata": {},
   "outputs": [],
   "source": [
    "set(x[0] for x in ending_in_colon if len(x)>0)"
   ]
  },
  {
   "cell_type": "markdown",
   "metadata": {},
   "source": [
    "### column names and search phrases for them "
   ]
  },
  {
   "cell_type": "markdown",
   "metadata": {},
   "source": [
    "hb 145 g/l (80-140) wbc 5.8 x109/l (6.0-16.0) rcc 9.7 x1012/l (5.5-10.0) neut 3.0 x109/l (3.8-10.1) hct 0.40 (0.28-0.45) lymp 1.6 x109/l (1.6-7.0) mcv 41 fl (40-52) mono 0.1 x109/l (< 0.6) mch 15 pg (13-18) eos 0.3 x109/l (< 1.4) mchc 366 g/l (310-350) baso 0.0 x109/l (< 0.2) plat 206 x109/l (200-700) band 0.9 x109/l (< 0.1) red cells : normal. white cells : leucopenia +; neutropenia +; band form neutrophils +; toxic changes ++; dohle bodies ++.. platelets : large platelets +; fibrin +. fasting status random sodium 148 mmol/l (147-161) potassium 4.2 mmol/l (3.7-4.9) chloride 115 mmol/l (100-125) bicarbonate 15 mmol/l (15-24) anion gap 22 mmol/l urea 6.5 mmol/l (3.0-10.0) creatinine 85 umol/l (40-190) glucose 6.3 mmol/l (3.9-8.3) bilirubin 2 umol/l (< 17) ast 46 u/l (1-60) alt 23 u/l (1-80) ggt < 5 u/l (< 6) alkaline phosphatase 7 u/l (< 81) protein 61 g/l (55-78) albumin 28 g/l (22-35) globulin 33 g/l (33-43) albumin/globulin ratio 0.8 calcium 1.95 mmol/l (1.90-2.70) phosphate 1.40 mmol/l (1.00-2.00) creatine kinase 498 u/l (< 261) cholesterol 2.5 mmol/l (2.4-5.2) triglyceride 0.7 mmol/l (0.1-0.6)"
   ]
  },
  {
   "cell_type": "code",
   "execution_count": 27,
   "metadata": {},
   "outputs": [],
   "source": [
    "columns_to_add = {\n",
    "    'creatinine': 'creatinine|creat|crea|cre', \n",
    "    'creatine kinase': 'creatine\\skinase',\n",
    "    'usg': 'usg|sg',\n",
    "    'phosphate': 'phosphate|phosp|phos|ph', \n",
    "    'protein': 'protein|prot',\n",
    "    'albumin': 'albumin', \n",
    "    'globulin': 'globulin',\n",
    "    'urine ph': 'ph',\n",
    "    'triglyceride': 'triglyceride',\n",
    "    'calcium': 'calcium|calc|cal|ca', \n",
    "    'calcium:phosphate': 'ca:p\\sratio|albumin\\/globulin\\sratio',\n",
    "    'cholesterol': 'cholesterol',\n",
    "    'bun': 'bun',\n",
    "    'sap': 'sap',\n",
    "    'salt': 'salt',\n",
    "    'glucose': 'glucose|gluc|glu',\n",
    "    'tp': 't.p.|tp|tpp', \n",
    "    'pcv': 'pcv', \n",
    "    'alp': 'alp', \n",
    "    'alt': 'alt',\n",
    "    'acp': 'acp', \n",
    "    'alkp': 'alkp', \n",
    "    'bg': 'bg',\n",
    "    'wbc': 'white\\sblood\\scount|wbc', \n",
    "    'rcc' : 'rcc',\n",
    "    'eos': 'eos', \n",
    "    'baso': 'baso', \n",
    "    'lymph': 'lymph', \n",
    "    'sodium': 'na|sodium|sod', \n",
    "    'potassium': 'k\\+|k|potassium|pot', \n",
    "    'urea': 'urea', # might be the same as bun\n",
    "    'ggt': 'ggt', \n",
    "    'ket': 'ket', \n",
    "    'nit': 'nit', \n",
    "    'leu': 'leu'\n",
    "}"
   ]
  },
  {
   "cell_type": "code",
   "execution_count": 28,
   "metadata": {},
   "outputs": [
    {
     "name": "stdout",
     "output_type": "stream",
     "text": [
      "processing: creatinine with patter creatinine|creat|crea|cre\n",
      "\u001b[32m402 unique values found for creatinine\u001b[0m\n",
      "processing: creatine kinase with patter creatine\\skinase\n",
      "\u001b[32m203 unique values found for creatine kinase\u001b[0m\n",
      "processing: usg with patter usg|sg\n",
      "\u001b[32m160 unique values found for usg\u001b[0m\n",
      "processing: phosphate with patter phosphate|phosp|phos|ph\n",
      "\u001b[32m186 unique values found for phosphate\u001b[0m\n",
      "processing: protein with patter protein|prot\n",
      "\u001b[32m97 unique values found for protein\u001b[0m\n",
      "processing: albumin with patter albumin\n",
      "\u001b[32m35 unique values found for albumin\u001b[0m\n",
      "processing: globulin with patter globulin\n",
      "\u001b[32m45 unique values found for globulin\u001b[0m\n",
      "processing: urine ph with patter ph\n",
      "\u001b[32m98 unique values found for urine ph\u001b[0m\n",
      "processing: triglyceride with patter triglyceride\n",
      "\u001b[32m38 unique values found for triglyceride\u001b[0m\n",
      "processing: calcium with patter calcium|calc|cal|ca\n",
      "\u001b[32m75 unique values found for calcium\u001b[0m\n",
      "processing: calcium:phosphate with patter ca:p\\sratio|albumin\\/globulin\\sratio\n",
      "\u001b[32m21 unique values found for calcium:phosphate\u001b[0m\n",
      "processing: cholesterol with patter cholesterol\n",
      "\u001b[32m73 unique values found for cholesterol\u001b[0m\n",
      "processing: bun with patter bun\n",
      "\u001b[32m237 unique values found for bun\u001b[0m\n",
      "processing: sap with patter sap\n",
      "\u001b[32m33 unique values found for sap\u001b[0m\n",
      "processing: salt with patter salt\n",
      "\u001b[32m10 unique values found for salt\u001b[0m\n",
      "processing: glucose with patter glucose|gluc|glu\n",
      "\u001b[32m389 unique values found for glucose\u001b[0m\n",
      "processing: tp with patter t.p.|tp|tpp\n",
      "\u001b[32m175 unique values found for tp\u001b[0m\n",
      "processing: pcv with patter pcv\n",
      "\u001b[32m108 unique values found for pcv\u001b[0m\n",
      "processing: alp with patter alp\n",
      "\u001b[32m141 unique values found for alp\u001b[0m\n",
      "processing: alt with patter alt\n",
      "\u001b[32m294 unique values found for alt\u001b[0m\n",
      "processing: acp with patter acp\n",
      "\u001b[32m66 unique values found for acp\u001b[0m\n",
      "processing: alkp with patter alkp\n",
      "\u001b[32m101 unique values found for alkp\u001b[0m\n",
      "processing: bg with patter bg\n",
      "\u001b[32m155 unique values found for bg\u001b[0m\n",
      "processing: wbc with patter white\\sblood\\scount|wbc\n",
      "\u001b[32m250 unique values found for wbc\u001b[0m\n",
      "processing: rcc with patter rcc\n",
      "\u001b[32m99 unique values found for rcc\u001b[0m\n",
      "processing: eos with patter eos\n",
      "\u001b[32m118 unique values found for eos\u001b[0m\n",
      "processing: baso with patter baso\n",
      "\u001b[32m20 unique values found for baso\u001b[0m\n",
      "processing: lymph with patter lymph\n",
      "\u001b[32m26 unique values found for lymph\u001b[0m\n",
      "processing: sodium with patter na|sodium|sod\n",
      "\u001b[32m43 unique values found for sodium\u001b[0m\n",
      "processing: potassium with patter k\\+|k|potassium|pot\n",
      "\u001b[32m238 unique values found for potassium\u001b[0m\n",
      "processing: urea with patter urea\n",
      "\u001b[32m287 unique values found for urea\u001b[0m\n",
      "processing: ggt with patter ggt\n",
      "\u001b[32m17 unique values found for ggt\u001b[0m\n",
      "processing: ket with patter ket\n",
      "\u001b[32m47 unique values found for ket\u001b[0m\n",
      "processing: nit with patter nit\n",
      "\u001b[32m19 unique values found for nit\u001b[0m\n",
      "processing: leu with patter leu\n",
      "\u001b[32m13 unique values found for leu\u001b[0m\n"
     ]
    }
   ],
   "source": [
    "for column_name in columns_to_add.keys():\n",
    "    print(\"processing: \"+ column_name + \" with pattern \" + columns_to_add[column_name])\n",
    "    vetcompass_df = add_column(vetcompass_df, columns_to_add[column_name], column_name)\n",
    "    print('\\x1b[32m' + str(len(vetcompass_df[column_name].unique())) + \" unique values found for \" + column_name + '\\x1b[0m')"
   ]
  },
  {
   "cell_type": "markdown",
   "metadata": {},
   "source": [
    "#### make values numeric"
   ]
  },
  {
   "cell_type": "code",
   "execution_count": 29,
   "metadata": {},
   "outputs": [],
   "source": [
    "for column_name in columns_to_add.keys():\n",
    "    vetcompass_df[column_name] = pd.to_numeric(vetcompass_df[column_name], errors='coerce')"
   ]
  },
  {
   "cell_type": "markdown",
   "metadata": {},
   "source": [
    "#### plot values"
   ]
  },
  {
   "cell_type": "code",
   "execution_count": 30,
   "metadata": {},
   "outputs": [],
   "source": [
    "import matplotlib.pyplot as plt"
   ]
  },
  {
   "cell_type": "code",
   "execution_count": 39,
   "metadata": {},
   "outputs": [
    {
     "data": {
      "image/png": "[encoded data removed]",
      "text/plain": [
       "<matplotlib.figure.Figure at 0x1177a7a58>"
      ]
     },
     "metadata": {},
     "output_type": "display_data"
    }
   ],
   "source": [
    "column_name = 'phosphate'\n",
    "_ = plt.hist(vetcompass_df[column_name].dropna(), bins=np.arange(1,50,1))\n",
    "plt.show()"
   ]
  },
  {
   "cell_type": "code",
   "execution_count": null,
   "metadata": {},
   "outputs": [],
   "source": []
  },
  {
   "cell_type": "code",
   "execution_count": null,
   "metadata": {},
   "outputs": [],
   "source": []
  },
  {
   "cell_type": "code",
   "execution_count": null,
   "metadata": {},
   "outputs": [],
   "source": []
  },
  {
   "cell_type": "code",
   "execution_count": 21,
   "metadata": {},
   "outputs": [
    {
     "data": {
      "image/png": "[encoded data removed]",
      "text/plain": [
       "<matplotlib.figure.Figure at 0x11735e2e8>"
      ]
     },
     "metadata": {},
     "output_type": "display_data"
    }
   ],
   "source": [
    "_ = plt.hist(frameyframe, bins=np.arange(0,1,.01))\n",
    "plt.show()"
   ]
  },
  {
   "cell_type": "code",
   "execution_count": 22,
   "metadata": {},
   "outputs": [
    {
     "data": {
      "image/png": "[encoded data removed]",
      "text/plain": [
       "<matplotlib.figure.Figure at 0x11e77a5c0>"
      ]
     },
     "metadata": {},
     "output_type": "display_data"
    }
   ],
   "source": [
    "_ = plt.hist(frameyframe, bins=np.arange(0,10,.01))\n",
    "plt.show()"
   ]
  },
  {
   "cell_type": "code",
   "execution_count": 24,
   "metadata": {},
   "outputs": [
    {
     "data": {
      "image/png": "[encoded data removed]",
      "text/plain": [
       "<matplotlib.figure.Figure at 0x11f6140f0>"
      ]
     },
     "metadata": {},
     "output_type": "display_data"
    }
   ],
   "source": [
    "_ = plt.hist(frameyframe, bins=np.arange(0,100,1))\n",
    "plt.show()"
   ]
  },
  {
   "cell_type": "code",
   "execution_count": 26,
   "metadata": {},
   "outputs": [
    {
     "data": {
      "image/png": "[encoded data removed]",
      "text/plain": [
       "<matplotlib.figure.Figure at 0x1172793c8>"
      ]
     },
     "metadata": {},
     "output_type": "display_data"
    }
   ],
   "source": [
    "_ = plt.hist(frameyframe, bins=np.arange(20,400,1))\n",
    "plt.show()"
   ]
  },
  {
   "cell_type": "markdown",
   "metadata": {},
   "source": [
    "### Todo \n",
    "\n",
    "* Creatinine: multiply values below 1 by 1000. \n"
   ]
  },
  {
   "cell_type": "code",
   "execution_count": null,
   "metadata": {},
   "outputs": [],
   "source": []
  }
 ],
 "metadata": {
  "kernelspec": {
   "display_name": "Python 3",
   "language": "python",
   "name": "python3"
  },
  "language_info": {
   "codemirror_mode": {
    "name": "ipython",
    "version": 3
   },
   "file_extension": ".py",
   "mimetype": "text/x-python",
   "name": "python",
   "nbconvert_exporter": "python",
   "pygments_lexer": "ipython3",
   "version": "3.6.3"
  }
 },
 "nbformat": 4,
 "nbformat_minor": 4
}
