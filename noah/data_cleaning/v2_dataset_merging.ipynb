{
 "cells": [
  {
   "cell_type": "markdown",
   "metadata": {},
   "source": [
    "TO DO:\n",
    "8SDMA tests not matched (118 total)\n",
    "159 asap results not matched (~1419 total)"
   ]
  },
  {
   "cell_type": "code",
   "execution_count": 1,
   "metadata": {},
   "outputs": [],
   "source": [
    "import pandas as pd\n",
    "import numpy as np\n",
    "import os\n",
    "import datetime as dt\n",
    "from datetime import timedelta\n",
    "pd.options.display.max_colwidth = 100\n",
    "pd.set_option('display.max_columns', 100)\n",
    "pd.set_option('display.max_rows', 300)"
   ]
  },
  {
   "cell_type": "code",
   "execution_count": 2,
   "metadata": {},
   "outputs": [],
   "source": [
    "data_dir = '../../Data/noah/'\n",
    "\n",
    "patient_file  = os.path.join(data_dir, \"hashed_patient_data.csv\")\n",
    "history_file = os.path.join(data_dir, \"hashed_history_data.csv\") \n",
    "sdma_file      = os.path.join(data_dir, \"hashed_SDMA_data.csv\")\n",
    "asap_file  = os.path.join(data_dir, \"hashed_asap_data.csv\")\n",
    "\n",
    "patient = pd.read_csv(patient_file, encoding=\"latin-1\")\n",
    "history = pd.read_csv(history_file, encoding=\"latin-1\")\n",
    "sdma = pd.read_csv(sdma_file, encoding=\"latin-1\")\n",
    "asap = pd.read_csv(asap_file, encoding=\"latin-1\", skipinitialspace=True)"
   ]
  },
  {
   "cell_type": "markdown",
   "metadata": {},
   "source": [
    "patient:  patient code \n",
    "history: ID (clinic_ref) \n",
    "sdma: patient code\n",
    "asap: clinic_ref\n",
    "\n",
    "Plan:\n",
    "- join patient to each history record via patient code (output: same size as history)\n",
    "- scheme to match dates for history, sdma and asap??"
   ]
  },
  {
   "cell_type": "markdown",
   "metadata": {},
   "source": [
    "#### join patient and history"
   ]
  },
  {
   "cell_type": "code",
   "execution_count": null,
   "metadata": {},
   "outputs": [],
   "source": [
    "print(patient.shape)\n",
    "print(history.shape)"
   ]
  },
  {
   "cell_type": "code",
   "execution_count": null,
   "metadata": {},
   "outputs": [],
   "source": [
    "patient_history = pd.merge(patient, history, how='outer', left_on=\"Patient Code\", right_on=\"Patient code\")\n",
    "print(patient_history.shape)\n",
    "# remove records where there is no history ID (patient had no history record)\n",
    "patient_history = patient_history[patient_history['ID'].notnull()]\n",
    "print(patient_history.shape)\n",
    "# remove records where date is null\n",
    "patient_history = patient_history[patient_history['Date'].notnull()]\n",
    "print(patient_history.shape)\n",
    "# drop some columns we don't need\n",
    "patient_history.drop(inplace=True, columns = ['Species','Unnamed: 0_x', 'Last vaccination', 'Next vaccination','Label 3 data', 'No. found', 'vacc reminder', 'time', 'created', 'VaccIntMonths', 'Label 1 data', 'Label 4 data', 'Vaccine Name', 'LatestWeight', 'modified', 'VaccIntDays', 'Label 2 data', 'Contact last', 'Practice name', 'OverDue', 'NextVaccine Name', 'Unnamed: 0_y', 'found_count', 'HL7code'])\n",
    "print(patient_history.shape)"
   ]
  },
  {
   "cell_type": "markdown",
   "metadata": {},
   "source": [
    "#### remove multiple history records by merging their data into one record"
   ]
  },
  {
   "cell_type": "code",
   "execution_count": null,
   "metadata": {},
   "outputs": [],
   "source": [
    "for index, row in patient_history.iterrows(): #_copy:\n",
    "    date = row['Date']\n",
    "    cat = row['Patient code']\n",
    "    # for this cat on this date are there multiple history entries?\n",
    "    # search in history_patient records\n",
    "    thisDate = patient_history[patient_history['Date'] == date]\n",
    "    thisDateAndCat = thisDate[thisDate['Patient code'] == cat]\n",
    "    if len(thisDateAndCat) > 1:\n",
    "        # yes there are multiple history entries (merge then remove by index)\n",
    "        indices = list(thisDateAndCat.index)\n",
    "        # combine repeated histories onto first one\n",
    "        for index in indices[-1:]:\n",
    "            patient_history.loc[indices[0]] = patient_history.loc[indices[0]].fillna(patient_history.loc[index])\n",
    "        # drop repeated records by index\n",
    "        patient_history.drop(indices[-1:], inplace = True)\n",
    "# see how many records there are now\n",
    "print(patient_history.shape)"
   ]
  },
  {
   "cell_type": "markdown",
   "metadata": {},
   "source": [
    "#### join sdma by patient code and date"
   ]
  },
  {
   "cell_type": "code",
   "execution_count": null,
   "metadata": {},
   "outputs": [],
   "source": [
    "# make new df and add SDMA column and fill with nans to start\n",
    "patient_history_sdma = pd.DataFrame(patient_history)\n",
    "patient_history_sdma[\"sdma\"] = np.nan\n",
    "# remove column\n",
    "sdma.drop(inplace=True, columns = ['Unnamed: 0'])\n",
    "# make Dates the right format\n",
    "sdma['Date'] = pd.to_datetime(sdma['Date'], infer_datetime_format=True)\n",
    "# drop duplicate sdma records\n",
    "sdma.drop_duplicates(subset=['Patient Code', 'Date'], keep='first', inplace=True)\n",
    "# reset the index\n",
    "sdma.reset_index(inplace=True)\n",
    "print(patient_history.shape)\n",
    "print(sdma.shape)"
   ]
  },
  {
   "cell_type": "code",
   "execution_count": null,
   "metadata": {},
   "outputs": [],
   "source": [
    "sdma.duplicated(subset=['Patient Code', 'Date']).value_counts() #.unique()"
   ]
  },
  {
   "cell_type": "code",
   "execution_count": null,
   "metadata": {},
   "outputs": [],
   "source": [
    "# make a copy of sdma\n",
    "sdma_copy = pd.DataFrame(sdma)\n",
    "# make sure date format is correct still\n",
    "sdma_copy['Date'] = pd.to_datetime(sdma_copy['Date'], format='%Y-%m-%d') \n",
    "# make Dates the right format\n",
    "patient_history_sdma['Date'] = pd.to_datetime(patient_history_sdma['Date'], format='%Y-%m-%d') "
   ]
  },
  {
   "cell_type": "code",
   "execution_count": null,
   "metadata": {},
   "outputs": [],
   "source": [
    "# try scheme\n",
    "\n",
    "dayOffset = [0,-1, 1, -2, 2, -3, 3, -4, 4, -5, 5, -6, 6, -7, 7, -8, 8, -9, 9, -10, 10]\n",
    "for offset in dayOffset:\n",
    "    print(\"Day offset: \" + str(offset))\n",
    "\n",
    "    matched = []\n",
    "    for index, row in sdma_copy.iterrows():\n",
    "        date = row['Date'] + pd.DateOffset(offset)\n",
    "        cat = row['Patient Code']\n",
    "        # search in history_patient records\n",
    "        thisDate = patient_history_sdma[patient_history_sdma['Date'] == date]\n",
    "        thisDateAndCat = thisDate[thisDate['Patient code'] == cat]\n",
    "        if len(thisDateAndCat) == 0:\n",
    "            print('index '+str(index)+' has no matching record')\n",
    "            print(date)\n",
    "            print(cat)\n",
    "        elif len(thisDateAndCat) > 1:\n",
    "            print('index '+str(index)+' more than 1!') # don't expect this cos we merged same data history records\n",
    "            print(thisDateAndCat)\n",
    "        elif len(thisDateAndCat) == 1:\n",
    "            # add SDMA to main df \n",
    "            ind = patient_history_sdma[(patient_history_sdma['Patient code'] == cat) & (patient_history_sdma['Date'] == date)].index\n",
    "            patient_history_sdma.loc[ind, 'sdma'] = row['SDMA']\n",
    "            matched.append(index)\n",
    "            print('index '+str(index)+' matched')\n",
    "        else:\n",
    "            print('index '+str(index)+' WEIRD')\n",
    "\n",
    "    # drop all records that were matched this time\n",
    "    sdma_copy.drop(sdma_copy.index[matched], inplace=True)\n",
    "    # reset the index\n",
    "    sdma_copy.reset_index(drop=True, inplace=True)"
   ]
  },
  {
   "cell_type": "code",
   "execution_count": null,
   "metadata": {},
   "outputs": [],
   "source": [
    "# match by hand \n",
    "#thisCat = 'edc131d1c97255c2fea0e77564b28b67a24ca02b910f98e9fb9c91783212bedd'\n",
    "#patient_history_sdma[patient_history_sdma['Patient Code'] == thisCat][['Date', 'BCS', 'Weight', 'Pathology', 'Sex','sdma']]\n",
    "#sdma_copy[sdma_copy['Patient Code'] == 'thisCat']"
   ]
  },
  {
   "cell_type": "code",
   "execution_count": null,
   "metadata": {},
   "outputs": [],
   "source": [
    "# MANUALLY MATCH THE REST (MUST DO THIS AFTER SCHEME DUE TO INDEX BEING RESET EACH TIME!)\n",
    "\n",
    "# switch day and month\n",
    "patient_history_sdma.loc[13605, 'sdma'] = sdma_copy.loc[2, 'SDMA']\n",
    "sdma_copy.drop(2, inplace=True)\n",
    "\n",
    "# switch day and month\n",
    "patient_history_sdma.loc[10666, 'sdma'] = sdma_copy.loc[4, 'SDMA']\n",
    "sdma_copy.drop(4, inplace=True)\n",
    "\n",
    "# switch day and month\n",
    "patient_history_sdma.loc[17631, 'sdma'] = sdma_copy.loc[5, 'SDMA']\n",
    "sdma_copy.drop(5, inplace=True)\n",
    "\n",
    "# switch day and month, 1 day off\n",
    "patient_history_sdma.loc[5561, 'sdma'] = sdma_copy.loc[6, 'SDMA']\n",
    "sdma_copy.drop(6, inplace=True)\n",
    "\n",
    "# switch day and month\n",
    "patient_history_sdma.loc[18458, 'sdma'] = sdma_copy.loc[8, 'SDMA']\n",
    "sdma_copy.drop(8, inplace=True)\n",
    "\n",
    "# switch day and month\n",
    "patient_history_sdma.loc[3551, 'sdma'] = sdma_copy.loc[11, 'SDMA']\n",
    "sdma_copy.drop(11, inplace=True)\n",
    "\n",
    "# switch day and month\n",
    "patient_history_sdma.loc[10469, 'sdma'] = sdma_copy.loc[12, 'SDMA']\n",
    "sdma_copy.drop(12, inplace=True)\n",
    "\n",
    "# switch day and month\n",
    "patient_history_sdma.loc[5314, 'sdma'] = sdma_copy.loc[13, 'SDMA']\n",
    "sdma_copy.drop(13, inplace=True)\n",
    "\n",
    "# switch day and month\n",
    "patient_history_sdma.loc[17600, 'sdma'] = sdma_copy.loc[1, 'SDMA']\n",
    "sdma_copy.drop(1, inplace=True)\n",
    "\n",
    "# switch day and month\n",
    "patient_history_sdma.loc[17616, 'sdma'] = sdma_copy.loc[14, 'SDMA']\n",
    "sdma_copy.drop(14, inplace=True)\n",
    "\n",
    "# switch day and month, 1 day off\n",
    "patient_history_sdma.loc[18439, 'sdma'] = sdma_copy.loc[15, 'SDMA']\n",
    "sdma_copy.drop(15, inplace=True)\n",
    "\n",
    "# switch day and month\n",
    "patient_history_sdma.loc[10232, 'sdma'] = sdma_copy.loc[16, 'SDMA']\n",
    "sdma_copy.drop(16, inplace=True)\n",
    "\n",
    "# switch day and month\n",
    "patient_history_sdma.loc[17125, 'sdma'] = sdma_copy.loc[17, 'SDMA']\n",
    "sdma_copy.drop(17, inplace=True)\n",
    "\n",
    "# switch day and month\n",
    "patient_history_sdma.loc[18844, 'sdma'] = sdma_copy.loc[18, 'SDMA']\n",
    "sdma_copy.drop(18, inplace=True)\n",
    "\n",
    "# switch day and month\n",
    "patient_history_sdma.loc[12612, 'sdma'] = sdma_copy.loc[19, 'SDMA']\n",
    "sdma_copy.drop(19, inplace=True)\n",
    "\n",
    "# switch day and month\n",
    "patient_history_sdma.loc[18913, 'sdma'] = sdma_copy.loc[20, 'SDMA']\n",
    "sdma_copy.drop(20, inplace=True)\n",
    "\n",
    "# switch day and month\n",
    "patient_history_sdma.loc[18699, 'sdma'] = sdma_copy.loc[21, 'SDMA']\n",
    "sdma_copy.drop(21, inplace=True)\n",
    "\n",
    "# switch day and month\n",
    "patient_history_sdma.loc[11036, 'sdma'] = sdma_copy.loc[23, 'SDMA']\n",
    "sdma_copy.drop(23, inplace=True)\n",
    "\n",
    "# switch day and month\n",
    "patient_history_sdma.loc[11034, 'sdma'] = sdma_copy.loc[24, 'SDMA']\n",
    "sdma_copy.drop(24, inplace=True)\n",
    "\n",
    "# switch day and month\n",
    "patient_history_sdma.loc[14272, 'sdma'] = sdma_copy.loc[25, 'SDMA']\n",
    "sdma_copy.drop(25, inplace=True)\n",
    "\n",
    "# switch day and month\n",
    "patient_history_sdma.loc[19372, 'sdma'] = sdma_copy.loc[26, 'SDMA']\n",
    "sdma_copy.drop(26, inplace=True)\n",
    "\n",
    "# switch day and month\n",
    "patient_history_sdma.loc[15026, 'sdma'] = sdma_copy.loc[28, 'SDMA']\n",
    "sdma_copy.drop(28, inplace=True)\n",
    "\n",
    "#\n",
    "patient_history_sdma.loc[13212, 'sdma'] = sdma_copy.loc[29, 'SDMA']\n",
    "sdma_copy.drop(29, inplace=True)\n",
    "\n",
    "# switch day and month\n",
    "patient_history_sdma.loc[19477, 'sdma'] = sdma_copy.loc[30, 'SDMA']\n",
    "sdma_copy.drop(30, inplace=True)\n",
    "\n",
    "# 2nd June 2018. Joined to 30th June which had ASAP.There was 2nd July w/ no path.\n",
    "patient_history_sdma.loc[14292, 'sdma'] = sdma_copy.loc[3, 'SDMA']\n",
    "sdma_copy.drop(3, inplace=True)\n",
    "\n",
    "#day/month opposite\n",
    "patient_history_sdma.loc[17500, 'sdma'] = sdma_copy.loc[33, 'SDMA']\n",
    "sdma_copy.drop(33, inplace=True)\n"
   ]
  },
  {
   "cell_type": "code",
   "execution_count": null,
   "metadata": {},
   "outputs": [],
   "source": [
    "print( str(len(sdma_copy)) + ' sdma tests unmatched')"
   ]
  },
  {
   "cell_type": "code",
   "execution_count": null,
   "metadata": {},
   "outputs": [],
   "source": [
    "#patient_history_sdma[patient_history_sdma['Date of Birth'].isnull()] #263 patients with nan dob\n",
    "#patient_history_sdma[patient_history_sdma['Sex'].isnull()] # 208 nans\n",
    "#patient_history_sdma[patient_history_sdma['Desexed?'].isnull()] # 338 nans"
   ]
  },
  {
   "cell_type": "markdown",
   "metadata": {},
   "source": [
    "#### join asap by clinic_ref and date"
   ]
  },
  {
   "cell_type": "code",
   "execution_count": null,
   "metadata": {},
   "outputs": [],
   "source": [
    "# DO SOME CLEANING FIRST\n",
    "\n",
    "# check for duplicate entries\n",
    "asap.duplicated(subset=['clinic_ref', 'date']).value_counts()\n",
    "\n",
    "# remove white space from column names\n",
    "asap.rename(columns=lambda x: x.strip(), inplace=True)\n",
    "\n",
    "# remove unwanted characters\n",
    "asap = asap.replace('Ã¥Ã', '', regex=True)\n",
    "asap = asap.replace('\\*','',regex=True) \n",
    "asap = asap.replace('\\<', '', regex=True)\n",
    "asap = asap.replace('\\>', '', regex=True)\n",
    "\n",
    "# remove column\n",
    "asap.drop(inplace=True, columns = ['Unnamed: 0', 'Unnamed: 1', 'owner', 'animal_id']) #'filename', \n",
    "\n",
    "# change species_breed column to breed column\n",
    "asap.rename(columns={'species_breed':'breed'}, inplace=True)\n",
    "asap = asap.replace('Feline', '', regex=True)\n",
    "asap = asap.replace(',', '', regex=True)\n",
    "asap = asap.replace('feline', '', regex=True)\n",
    "asap['breed'] = asap['breed'].str.strip()\n",
    "# drop some sneaky snouts\n",
    "asap.drop(asap[asap.breed == \"Canine                         Labrador Cross\"].index, inplace=True)\n",
    "asap.drop(asap[asap.breed == \"Canine                        Staffy cross\"].index, inplace=True)"
   ]
  },
  {
   "cell_type": "code",
   "execution_count": null,
   "metadata": {},
   "outputs": [],
   "source": [
    "# make new df and add new columns\n",
    "patient_history_sdma_asap = pd.DataFrame(patient_history_sdma)\n",
    "extraCols = list(asap.columns)\n",
    "extraCols.remove('clinic_ref')\n",
    "extraCols.remove('date')\n",
    "patient_history_sdma_asap = pd.concat([patient_history_sdma_asap,pd.DataFrame(columns=extraCols)], sort=True)"
   ]
  },
  {
   "cell_type": "code",
   "execution_count": null,
   "metadata": {},
   "outputs": [],
   "source": [
    "patient_history_sdma_asap.head()"
   ]
  },
  {
   "cell_type": "code",
   "execution_count": null,
   "metadata": {},
   "outputs": [],
   "source": [
    "asap.head(3)['date']"
   ]
  },
  {
   "cell_type": "code",
   "execution_count": null,
   "metadata": {},
   "outputs": [],
   "source": [
    "# make Dates the right format\n",
    "asap['date'] = pd.to_datetime(asap['date'], format='%d/%m/%y') \n",
    "# reset the index\n",
    "asap.reset_index(inplace=True)\n",
    "# do this one again just in case\n",
    "patient_history_sdma_asap['Date'] = pd.to_datetime(patient_history_sdma_asap['Date'], format='%Y-%m-%d')\n",
    "print(patient_history_sdma.shape)\n",
    "print(asap.shape)"
   ]
  },
  {
   "cell_type": "code",
   "execution_count": null,
   "metadata": {},
   "outputs": [],
   "source": [
    "def matching_scheme(dayOffsets, testResults_df, dateStr_res, catStr_res, original_df, dateStr_orig, catStr_orig, combined_df, testList):\n",
    "\n",
    "    for offset in dayOffset:\n",
    "        print(\"Day offset: \" + str(offset))\n",
    "\n",
    "        matched = []\n",
    "        for index, row in testResults_df.iterrows():\n",
    "            date = row[dateStr_res] + pd.DateOffset(offset)\n",
    "            cat = row[catStr_res]\n",
    "            # search in original records\n",
    "            thisDate = original_df[original_df[dateStr_orig] == date]\n",
    "            thisDateAndCat = thisDate[thisDate[catStr_orig] == cat]\n",
    "            if len(thisDateAndCat) == 0:\n",
    "                print('index '+str(index)+' has no matching record')\n",
    "                print(date)\n",
    "                print(cat)\n",
    "            elif len(thisDateAndCat) > 1:\n",
    "                print('index '+str(index)+' more than 1!') # don't expect this cos we merged same data history records\n",
    "                print(thisDateAndCat)\n",
    "            elif len(thisDateAndCat) == 1:\n",
    "                \n",
    "                # add results to main df \n",
    "                ind = combined_df[(combined_df[catStr_orig] == cat) & (combined_df[dateStr_orig] == date)].index\n",
    "                for test in testList:\n",
    "                       combined_df.loc[ind, test] = row[test]\n",
    "                \n",
    "                matched.append(index)\n",
    "                print('index '+str(index)+' matched')\n",
    "          \n",
    "        else:\n",
    "                print(str(len(thisDateAndCat)))\n",
    "                print('index '+str(index)+' WEIRD')\n",
    "\n",
    "        # drop all records that were matched this time\n",
    "        testResults_df.drop(testResults_df.index[matched], inplace=True)\n",
    "        # reset the index\n",
    "        testResults_df.reset_index(drop=True, inplace=True)"
   ]
  },
  {
   "cell_type": "code",
   "execution_count": null,
   "metadata": {},
   "outputs": [],
   "source": [
    "# use scheme\n",
    "dayOffsets = [0,-1, 1, -2, 2, -3, 3, -4, 4, -5, 5, -6, 6, -7, 7, -8, 8, -9, 9, -10, 10]\n",
    "asap_copy = pd.DataFrame(asap)\n",
    "matching_scheme(dayOffsets, asap_copy, 'date', 'clinic_ref', patient_history_sdma, 'Date', 'ID', patient_history_sdma_asap, extraCols)"
   ]
  },
  {
   "cell_type": "code",
   "execution_count": null,
   "metadata": {},
   "outputs": [],
   "source": []
  },
  {
   "cell_type": "code",
   "execution_count": null,
   "metadata": {},
   "outputs": [],
   "source": [
    "# see how many cats with asap are found in the history by clinic_ref\n",
    "# ( tried using filename instead of clinic ref but it didn't match any extra)\n",
    "\n",
    "cats = 0\n",
    "nocat = 0\n",
    "for index, row in asap_copy.iterrows():\n",
    "        cat = row['clinic_ref']\n",
    "        # search cat in history\n",
    "        thisCat = patient_history_sdma_asap[patient_history_sdma_asap['ID'] == cat]\n",
    "        if len(thisCat) == 0:\n",
    "            nocat += 1\n",
    "        elif len(thisCat) == 1:\n",
    "            cats += 1\n",
    "            print(thisCat['ID'])\n",
    "        else:\n",
    "            print('something weird:' +str(thiCat))"
   ]
  },
  {
   "cell_type": "code",
   "execution_count": null,
   "metadata": {},
   "outputs": [],
   "source": [
    "print(cats)"
   ]
  },
  {
   "cell_type": "code",
   "execution_count": null,
   "metadata": {},
   "outputs": [],
   "source": [
    "# tried to match the 35 cats with history records by hand\n",
    "# many of them only had 1 record and dates didn't match so not useful.  Did about 15 then stopped.\n",
    "#thisCat = 'd1c949da20d5919de92892814310098c24b5a971d5e7823368d2351f20a32c0c'\n",
    "#asap_copy[asap_copy['clinic_ref'] == thisCat][['age_sex', 'date', 'breed']]\n",
    "#patient_history_sdma_asap[patient_history_sdma_asap['ID'] == thisCat][['Date', 'Sex', 'breed']]\n",
    "\n",
    "def copy_data(from_here, to_here, these_tests):\n",
    "    for test in these_tests:\n",
    "        patient_history_sdma_asap.loc[to_here, test] = asap_copy.loc[from_here, test]\n",
    "    asap_copy.drop(from_here, inplace=True)\n",
    "    \n",
    "# MATCH BY HAND\n",
    "\n",
    "# ~ 1 mnth difference\n",
    "#copy_data(154, 17679, extraCols)"
   ]
  },
  {
   "cell_type": "markdown",
   "metadata": {},
   "source": [
    "#### save merged data to csv"
   ]
  },
  {
   "cell_type": "code",
   "execution_count": null,
   "metadata": {},
   "outputs": [],
   "source": [
    "# write to csv\n",
    "patient_history_sdma_asap.to_csv(data_dir + 'merged_data_31Dec18.csv')"
   ]
  },
  {
   "cell_type": "code",
   "execution_count": null,
   "metadata": {},
   "outputs": [],
   "source": []
  }
 ],
 "metadata": {
  "kernelspec": {
   "display_name": "vetAI",
   "language": "python",
   "name": "vetai"
  },
  "language_info": {
   "codemirror_mode": {
    "name": "ipython",
    "version": 3
   },
   "file_extension": ".py",
   "mimetype": "text/x-python",
   "name": "python",
   "nbconvert_exporter": "python",
   "pygments_lexer": "ipython3",
   "version": "3.7.3"
  }
 },
 "nbformat": 4,
 "nbformat_minor": 2
}
